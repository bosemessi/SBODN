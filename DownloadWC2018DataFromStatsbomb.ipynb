{
  "nbformat": 4,
  "nbformat_minor": 0,
  "metadata": {
    "colab": {
      "name": "DownloadWC2018DataFromStatsbomb.ipynb",
      "provenance": []
    },
    "kernelspec": {
      "name": "python3",
      "display_name": "Python 3"
    },
    "language_info": {
      "name": "python"
    }
  },
  "cells": [
    {
      "cell_type": "markdown",
      "metadata": {
        "id": "OYogr2t9LHW7"
      },
      "source": [
        "#Import necessary python packages to read data from Statsbomb Open Data Repo; then create two functions to read the season data for getting match_ids, and then read the match data "
      ]
    },
    {
      "cell_type": "code",
      "metadata": {
        "id": "dJjMBKuVIv2A"
      },
      "source": [
        "import requests\n",
        "import json\n",
        "import pandas as pd\n",
        "import tqdm\n",
        "from pandas import json_normalize\n",
        "\n",
        "def load_file(season_id, getter=\"remote\", path = None):\n",
        "    resp = requests.get(f\"https://raw.githubusercontent.com/statsbomb/open-data/master/data/matches/43/{season_id}.json\")\n",
        "    season_dict = json.loads(resp.text)\n",
        "    season_df = json_normalize(season_dict, sep=\"_\")\n",
        "    return season_dict, season_df\n",
        "\n",
        "def load_match_file(match_id, getter=\"remote\", path = None):\n",
        "    resp = requests.get(f\"https://raw.githubusercontent.com/statsbomb/open-data/master/data/events/{match_id}.json\")\n",
        "    match_dict = json.loads(resp.text)\n",
        "    df = json_normalize(match_dict, sep=\"_\")\n",
        "    return match_dict, df"
      ],
      "execution_count": 1,
      "outputs": []
    },
    {
      "cell_type": "markdown",
      "metadata": {
        "id": "3DG-z8q4LU0h"
      },
      "source": [
        "#WC2018 has season_id = '3'. USe that to extract the match_ids of the WC2018"
      ]
    },
    {
      "cell_type": "code",
      "metadata": {
        "id": "v3LjZqpKJZht"
      },
      "source": [
        "season_dict, season_df = load_file('3', getter=\"remote\")    \n",
        "match_id_list = season_df.match_id.tolist() "
      ],
      "execution_count": 2,
      "outputs": []
    },
    {
      "cell_type": "markdown",
      "metadata": {
        "id": "zqVyYZRfLbiQ"
      },
      "source": [
        "#Now collect all the games into a single dataframe"
      ]
    },
    {
      "cell_type": "code",
      "metadata": {
        "colab": {
          "base_uri": "https://localhost:8080/"
        },
        "id": "XZRPW3mRJtmr",
        "outputId": "711be425-690c-4629-8d47-6e88a3173286"
      },
      "source": [
        "matches = []\n",
        "\n",
        "for i in tqdm.tqdm(range(len(match_id_list)),desc='Loading all Matches'):\n",
        "    match_dict, df = load_match_file(match_id_list[i], getter=\"remote\")\n",
        "    df['match_id'] = match_id_list[i]\n",
        "    df['season_id'] = '3'\n",
        "    matches.append(df)\n",
        "masterdf = pd.concat(matches)"
      ],
      "execution_count": 5,
      "outputs": [
        {
          "output_type": "stream",
          "text": [
            "Loading all Matches: 100%|██████████| 64/64 [01:20<00:00,  1.26s/it]\n"
          ],
          "name": "stderr"
        }
      ]
    },
    {
      "cell_type": "markdown",
      "metadata": {
        "id": "OOLHj4FtLhm4"
      },
      "source": [
        "#Save the dataframe as a parquet file (lightweight and faster to read than csv files)"
      ]
    },
    {
      "cell_type": "code",
      "metadata": {
        "id": "NxXm7DKFLnW5"
      },
      "source": [
        "masterdf.to_parquet('WC2018.parquet',index=None)"
      ],
      "execution_count": 6,
      "outputs": []
    },
    {
      "cell_type": "code",
      "metadata": {
        "id": "QUDNZJQyLzNB"
      },
      "source": [
        ""
      ],
      "execution_count": null,
      "outputs": []
    }
  ]
}