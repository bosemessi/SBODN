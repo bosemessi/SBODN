{
  "nbformat": 4,
  "nbformat_minor": 0,
  "metadata": {
    "colab": {
      "name": "PassCompletionModel.ipynb",
      "provenance": [],
      "collapsed_sections": []
    },
    "kernelspec": {
      "name": "python3",
      "display_name": "Python 3"
    },
    "language_info": {
      "name": "python"
    }
  },
  "cells": [
    {
      "cell_type": "markdown",
      "metadata": {
        "id": "3n8K7fmknvwr"
      },
      "source": [
        "#Improts"
      ]
    },
    {
      "cell_type": "code",
      "metadata": {
        "colab": {
          "base_uri": "https://localhost:8080/"
        },
        "cellView": "form",
        "id": "9i0RX_7510DE",
        "outputId": "aa9a0e57-f80d-4960-e170-9cf71bfaa6b6"
      },
      "source": [
        "#@title\n",
        "import sys\n",
        "import pandas as pd\n",
        "pd.options.mode.chained_assignment = None\n",
        "pd.set_option('display.max_columns', None)\n",
        "import numpy as np\n",
        "!git clone https://github.com/bosemessi/StatsbombOpenData --q\n",
        "from tqdm import tqdm\n",
        "import requests \n",
        "import warnings\n",
        "warnings.filterwarnings('ignore')\n",
        "\n",
        "import numpy as np\n",
        "import math\n",
        "import matplotlib.pyplot as plt\n",
        "import matplotlib as mpl\n",
        "import matplotlib.mlab as mlab\n",
        "import time\n",
        "import json\n",
        "import pandas as pd\n",
        "import requests\n",
        "from pandas import json_normalize\n",
        "import os\n",
        "import csv\n",
        "pd.options.mode.chained_assignment = None\n",
        "import seaborn as sns\n",
        "!pip install scikit-plot --q\n",
        "import scikitplot as skplt\n",
        "import scipy  \n",
        "from scipy.cluster import hierarchy as hc\n",
        "from collections import defaultdict\n",
        "!pip install rfpimp --q\n",
        "from rfpimp import *\n",
        "\n",
        "# Machine learning\n",
        "from sklearn import preprocessing, model_selection, svm, metrics\n",
        "from sklearn.model_selection import train_test_split, cross_val_predict, cross_val_score, GridSearchCV\n",
        "from sklearn.ensemble import RandomForestClassifier\n",
        "from sklearn.ensemble import ExtraTreesClassifier\n",
        "from sklearn.ensemble import GradientBoostingClassifier\n",
        "from sklearn.linear_model import LogisticRegression\n",
        "from sklearn.tree import DecisionTreeClassifier\n",
        "from xgboost import XGBClassifier\n",
        "from sklearn.utils import resample\n",
        "from sklearn.feature_selection import RFE\n",
        "from imblearn.over_sampling import SMOTE\n",
        "from collections import Counter\n",
        "\n",
        "from sklearn import preprocessing, model_selection, metrics\n",
        "from sklearn.model_selection import train_test_split, StratifiedKFold\n",
        "from sklearn.tree import DecisionTreeClassifier\n",
        "from sklearn.utils.class_weight import compute_class_weight\n",
        " \n",
        "from imblearn.over_sampling import SMOTENC\n",
        "\n",
        "\n",
        "from sklearn.preprocessing import StandardScaler \n",
        "from sklearn.decomposition import PCA\n",
        "\n",
        "from imblearn.under_sampling import TomekLinks\n",
        "from imblearn.under_sampling import EditedNearestNeighbours\n",
        "from imblearn.combine import SMOTETomek\n",
        "from imblearn.combine import SMOTEENN\n",
        "from sklearn.metrics import matthews_corrcoef\n",
        "from sklearn.metrics import brier_score_loss\n",
        "\n",
        "from sklearn.calibration import CalibratedClassifierCV, calibration_curve\n",
        "\n",
        "from imblearn.ensemble import BalancedRandomForestClassifier\n",
        "from sklearn.ensemble import AdaBoostClassifier\n",
        "from sklearn.datasets import make_classification"
      ],
      "execution_count": null,
      "outputs": [
        {
          "output_type": "stream",
          "text": [
            "fatal: destination path 'StatsbombOpenData' already exists and is not an empty directory.\n",
            "  Building wheel for rfpimp (setup.py) ... \u001b[?25l\u001b[?25hdone\n"
          ],
          "name": "stdout"
        }
      ]
    },
    {
      "cell_type": "markdown",
      "metadata": {
        "id": "ZW7hRkE4nymg"
      },
      "source": [
        "#Read the WC Data file, extract open play passes, extract coordinates"
      ]
    },
    {
      "cell_type": "code",
      "metadata": {
        "id": "j4mTTp772K_Z"
      },
      "source": [
        "df = pd.read_parquet('/content/StatsbombOpenData/WC2018.parquet').reset_index(drop=True)\n",
        "\n",
        "Df=df.query(\"(type_name == 'Pass')\\\n",
        "                   &(pass_type_name not in ['Free Kick', 'Corner', 'Throw-in', 'Kick Off'])\")\n",
        "Df[['x','y']] = np.array(list(Df.location))\n",
        "Df[['endX','endY']] = np.array(list(Df.pass_end_location))\n",
        "Df = Df.reset_index(drop=True)"
      ],
      "execution_count": null,
      "outputs": []
    },
    {
      "cell_type": "markdown",
      "metadata": {
        "id": "8rVoPrbxn7o6"
      },
      "source": [
        "#Feature engineering"
      ]
    },
    {
      "cell_type": "code",
      "metadata": {
        "id": "54RM5VRs276K"
      },
      "source": [
        "passes = Df.copy()\n",
        "passes.loc[passes['pass_outcome_name'].isnull(),'success'] = 1\n",
        "passes.loc[passes['pass_outcome_name'].notnull(), 'success'] = 0\n",
        "passes['x_dist'] = passes['endX'] - passes['x'] + 1e-5\n",
        "passes['y_dist'] = passes['endY'] - passes['y']\n",
        "passes['distance'] = np.sqrt((passes['x_dist']**2 + passes['y_dist']**2))\n",
        "passes['angle'] = np.abs(np.arctan2(passes['y_dist'],passes['x_dist']))\n",
        "feature_cols = ['duration', 'angle', 'pass_body_part_name', 'x', 'y', 'endX','endY',\n",
        "                'pass_cross', 'pass_cut_back', 'pass_deflected', 'pass_height_name', 'distance', \n",
        "                'pass_switch', 'pass_through_ball', 'play_pattern_name', 'under_pressure', 'success']\n",
        "pass_final = passes[feature_cols]\n",
        "bool_cols = ['pass_cross', 'pass_cut_back', 'pass_deflected','pass_switch', 'pass_through_ball','under_pressure']\n",
        "for col in bool_cols:\n",
        "    pass_final[col] = np.where(pass_final[col].isna(), 0, 1)\n",
        "features = pass_final.drop('success', axis=1)\n",
        "labels = pass_final['success']"
      ],
      "execution_count": null,
      "outputs": []
    },
    {
      "cell_type": "code",
      "metadata": {
        "colab": {
          "base_uri": "https://localhost:8080/",
          "height": 204
        },
        "id": "6XRg6-e23e6I",
        "outputId": "262ff6ad-2045-4395-c337-3752ecb0550e"
      },
      "source": [
        "pass_final.head()"
      ],
      "execution_count": null,
      "outputs": [
        {
          "output_type": "execute_result",
          "data": {
            "text/html": [
              "<div>\n",
              "<style scoped>\n",
              "    .dataframe tbody tr th:only-of-type {\n",
              "        vertical-align: middle;\n",
              "    }\n",
              "\n",
              "    .dataframe tbody tr th {\n",
              "        vertical-align: top;\n",
              "    }\n",
              "\n",
              "    .dataframe thead th {\n",
              "        text-align: right;\n",
              "    }\n",
              "</style>\n",
              "<table border=\"1\" class=\"dataframe\">\n",
              "  <thead>\n",
              "    <tr style=\"text-align: right;\">\n",
              "      <th></th>\n",
              "      <th>duration</th>\n",
              "      <th>angle</th>\n",
              "      <th>pass_body_part_name</th>\n",
              "      <th>x</th>\n",
              "      <th>y</th>\n",
              "      <th>endX</th>\n",
              "      <th>endY</th>\n",
              "      <th>pass_cross</th>\n",
              "      <th>pass_cut_back</th>\n",
              "      <th>pass_deflected</th>\n",
              "      <th>pass_height_name</th>\n",
              "      <th>distance</th>\n",
              "      <th>pass_switch</th>\n",
              "      <th>pass_through_ball</th>\n",
              "      <th>play_pattern_name</th>\n",
              "      <th>under_pressure</th>\n",
              "      <th>success</th>\n",
              "    </tr>\n",
              "  </thead>\n",
              "  <tbody>\n",
              "    <tr>\n",
              "      <th>0</th>\n",
              "      <td>2.947</td>\n",
              "      <td>0.248963</td>\n",
              "      <td>Right Foot</td>\n",
              "      <td>38.0</td>\n",
              "      <td>42.0</td>\n",
              "      <td>97.0</td>\n",
              "      <td>57.0</td>\n",
              "      <td>0</td>\n",
              "      <td>0</td>\n",
              "      <td>0</td>\n",
              "      <td>High Pass</td>\n",
              "      <td>60.876935</td>\n",
              "      <td>0</td>\n",
              "      <td>0</td>\n",
              "      <td>From Kick Off</td>\n",
              "      <td>1</td>\n",
              "      <td>0.0</td>\n",
              "    </tr>\n",
              "    <tr>\n",
              "      <th>1</th>\n",
              "      <td>2.293</td>\n",
              "      <td>0.358771</td>\n",
              "      <td>Head</td>\n",
              "      <td>24.0</td>\n",
              "      <td>24.0</td>\n",
              "      <td>48.0</td>\n",
              "      <td>33.0</td>\n",
              "      <td>0</td>\n",
              "      <td>0</td>\n",
              "      <td>0</td>\n",
              "      <td>High Pass</td>\n",
              "      <td>25.632021</td>\n",
              "      <td>0</td>\n",
              "      <td>0</td>\n",
              "      <td>From Kick Off</td>\n",
              "      <td>0</td>\n",
              "      <td>0.0</td>\n",
              "    </tr>\n",
              "    <tr>\n",
              "      <th>2</th>\n",
              "      <td>1.079</td>\n",
              "      <td>3.141593</td>\n",
              "      <td>Head</td>\n",
              "      <td>73.0</td>\n",
              "      <td>48.0</td>\n",
              "      <td>68.0</td>\n",
              "      <td>48.0</td>\n",
              "      <td>0</td>\n",
              "      <td>0</td>\n",
              "      <td>0</td>\n",
              "      <td>High Pass</td>\n",
              "      <td>4.999990</td>\n",
              "      <td>0</td>\n",
              "      <td>0</td>\n",
              "      <td>From Kick Off</td>\n",
              "      <td>0</td>\n",
              "      <td>1.0</td>\n",
              "    </tr>\n",
              "    <tr>\n",
              "      <th>3</th>\n",
              "      <td>1.467</td>\n",
              "      <td>0.404891</td>\n",
              "      <td>None</td>\n",
              "      <td>75.0</td>\n",
              "      <td>50.0</td>\n",
              "      <td>82.0</td>\n",
              "      <td>53.0</td>\n",
              "      <td>0</td>\n",
              "      <td>0</td>\n",
              "      <td>0</td>\n",
              "      <td>High Pass</td>\n",
              "      <td>7.615782</td>\n",
              "      <td>0</td>\n",
              "      <td>0</td>\n",
              "      <td>From Kick Off</td>\n",
              "      <td>1</td>\n",
              "      <td>0.0</td>\n",
              "    </tr>\n",
              "    <tr>\n",
              "      <th>4</th>\n",
              "      <td>1.613</td>\n",
              "      <td>0.211093</td>\n",
              "      <td>Head</td>\n",
              "      <td>39.0</td>\n",
              "      <td>28.0</td>\n",
              "      <td>53.0</td>\n",
              "      <td>31.0</td>\n",
              "      <td>0</td>\n",
              "      <td>0</td>\n",
              "      <td>0</td>\n",
              "      <td>High Pass</td>\n",
              "      <td>14.317831</td>\n",
              "      <td>0</td>\n",
              "      <td>0</td>\n",
              "      <td>From Kick Off</td>\n",
              "      <td>0</td>\n",
              "      <td>0.0</td>\n",
              "    </tr>\n",
              "  </tbody>\n",
              "</table>\n",
              "</div>"
            ],
            "text/plain": [
              "   duration     angle pass_body_part_name     x     y  endX  endY  pass_cross  \\\n",
              "0     2.947  0.248963          Right Foot  38.0  42.0  97.0  57.0           0   \n",
              "1     2.293  0.358771                Head  24.0  24.0  48.0  33.0           0   \n",
              "2     1.079  3.141593                Head  73.0  48.0  68.0  48.0           0   \n",
              "3     1.467  0.404891                None  75.0  50.0  82.0  53.0           0   \n",
              "4     1.613  0.211093                Head  39.0  28.0  53.0  31.0           0   \n",
              "\n",
              "   pass_cut_back  pass_deflected pass_height_name   distance  pass_switch  \\\n",
              "0              0               0        High Pass  60.876935            0   \n",
              "1              0               0        High Pass  25.632021            0   \n",
              "2              0               0        High Pass   4.999990            0   \n",
              "3              0               0        High Pass   7.615782            0   \n",
              "4              0               0        High Pass  14.317831            0   \n",
              "\n",
              "   pass_through_ball play_pattern_name  under_pressure  success  \n",
              "0                  0     From Kick Off               1      0.0  \n",
              "1                  0     From Kick Off               0      0.0  \n",
              "2                  0     From Kick Off               0      1.0  \n",
              "3                  0     From Kick Off               1      0.0  \n",
              "4                  0     From Kick Off               0      0.0  "
            ]
          },
          "metadata": {
            "tags": []
          },
          "execution_count": 9
        }
      ]
    },
    {
      "cell_type": "markdown",
      "metadata": {
        "id": "wtdJZCwZn_R5"
      },
      "source": [
        "#Label-encoding the categorical columns"
      ]
    },
    {
      "cell_type": "code",
      "metadata": {
        "id": "-DMGSae33p3n"
      },
      "source": [
        "cont_cols = ['duration', 'angle', 'distance','x', 'y', 'endX','endY'] \n",
        "cat_features = features.drop(cont_cols, axis=1)\n",
        "cont_features = features[cont_cols]\n",
        "def display_all(df):\n",
        "    with pd.option_context(\"display.max_rows\", 1000): \n",
        "        with pd.option_context(\"display.max_columns\", 1000): \n",
        "            display(df.head(20).transpose())\n",
        "def label_encode(df):\n",
        "    # Convert df to label encoded\n",
        "    df_le = pd.DataFrame({col: df[col].astype('category').cat.codes for col in df}, index=df.index)\n",
        "    # Save mappings as a dict\n",
        "    mappings = {col: {n: cat for n, cat in enumerate(df[col].astype('category').cat.categories)} \n",
        "     for col in df}\n",
        "    return df_le, mappings\n",
        "cat_features_le, mappings = label_encode(cat_features)\n",
        "features_le = cont_features.merge(cat_features_le, left_index=True, right_index=True)"
      ],
      "execution_count": null,
      "outputs": []
    },
    {
      "cell_type": "markdown",
      "metadata": {
        "id": "GnO5kB6QoDn4"
      },
      "source": [
        "#First try with a Random Forest"
      ]
    },
    {
      "cell_type": "code",
      "metadata": {
        "colab": {
          "base_uri": "https://localhost:8080/"
        },
        "id": "QELZ9J4F34ZJ",
        "outputId": "82faf881-7ee3-443b-f9ac-c997fffb896c"
      },
      "source": [
        "X = features_le\n",
        "y = labels\n",
        " \n",
        "m = RandomForestClassifier(n_estimators=100, n_jobs=-1, random_state=42)\n",
        "cv = StratifiedKFold(n_splits=5, shuffle=True, random_state=42)\n",
        " \n",
        "# Define a function to calculate the Brier loss using cross-validation\n",
        "def get_loss(X, y=y, m=m, cv=cv):\n",
        "    scores = cross_val_score(m, X, y, cv=cv, scoring='brier_score_loss')\n",
        "    return np.mean(scores)*-1\n",
        " \n",
        "loss = get_loss(X=X)\n",
        "print('Brier loss:', \"{0:.5f}\".format(loss))"
      ],
      "execution_count": null,
      "outputs": [
        {
          "output_type": "stream",
          "text": [
            "Brier loss: 0.08322\n"
          ],
          "name": "stdout"
        }
      ]
    },
    {
      "cell_type": "markdown",
      "metadata": {
        "id": "7d1SEdP4oHQM"
      },
      "source": [
        "#Make a dendrogram for correlated features. "
      ]
    },
    {
      "cell_type": "code",
      "metadata": {
        "colab": {
          "base_uri": "https://localhost:8080/",
          "height": 483
        },
        "id": "sWpgEN-C38T5",
        "outputId": "71e0dafc-3eb5-4e17-8452-0a80fe304515"
      },
      "source": [
        "from numpy.random import rand\n",
        "from numpy.random import seed\n",
        "seed(42)\n",
        "copyX = X + rand(*X.shape) / 100000.0\n",
        "def dendrogram(X):\n",
        "    corr = np.round(scipy.stats.spearmanr(X).correlation, 4)\n",
        "    corr_condensed = hc.distance.squareform(1-corr)\n",
        "    z = hc.linkage(corr_condensed, method='average')\n",
        "    fig = plt.figure(figsize=(10,8))\n",
        "    dendrogram = hc.dendrogram(z, labels=X.columns, \n",
        "          orientation='right', leaf_font_size=16)\n",
        "    plt.show()\n",
        "    return\n",
        "dendrogram(copyX)"
      ],
      "execution_count": null,
      "outputs": [
        {
          "output_type": "display_data",
          "data": {
            "image/png": "[encoded data removed]",
            "text/plain": [
              "<Figure size 720x576 with 1 Axes>"
            ]
          },
          "metadata": {
            "tags": [],
            "needs_background": "light"
          }
        }
      ]
    },
    {
      "cell_type": "markdown",
      "metadata": {
        "id": "V-C5TyoDoOVC"
      },
      "source": [
        "#Remove the correlated features and check if the Brier loss reduces."
      ]
    },
    {
      "cell_type": "code",
      "metadata": {
        "colab": {
          "base_uri": "https://localhost:8080/"
        },
        "id": "TPbqjBku4He5",
        "outputId": "6a94b78f-1909-4f3d-ef04-890731fa9683"
      },
      "source": [
        "feats = ['x', 'endX',\n",
        "         'y', 'endY',\n",
        "         'distance', 'duration']\n",
        "print('original', \"{0:.5f}\".format(loss))\n",
        "for feat in feats:\n",
        "    loss_feats = get_loss(X=X.drop(feat, axis=1))   \n",
        "    print(feat, \"{0:.5f}\".format(loss_feats))"
      ],
      "execution_count": null,
      "outputs": [
        {
          "output_type": "stream",
          "text": [
            "original 0.08322\n",
            "x 0.08325\n",
            "endX 0.08439\n",
            "y 0.08395\n",
            "endY 0.08874\n",
            "distance 0.08563\n",
            "duration 0.08873\n"
          ],
          "name": "stdout"
        }
      ]
    },
    {
      "cell_type": "markdown",
      "metadata": {
        "id": "lncScgqxoUHF"
      },
      "source": [
        "#Feature importance extraction"
      ]
    },
    {
      "cell_type": "code",
      "metadata": {
        "colab": {
          "base_uri": "https://localhost:8080/",
          "height": 389
        },
        "id": "jfJTArhX4UmN",
        "outputId": "d1e32953-4a5c-48ec-8cd5-bc32b791d945"
      },
      "source": [
        "## Define a function to get feature importance using the drop-column method\n",
        "def get_imp(X, y=y, m=m, cv=cv):\n",
        "    baseline = get_loss(X=X, y=y, m=m, cv=cv)\n",
        "    imp = []\n",
        "    for col in X.columns:\n",
        "        s = get_loss(X=X.drop(col, axis=1), y=y, m=m, cv=cv)\n",
        "        change_in_score = s - baseline\n",
        "        imp.append(change_in_score)\n",
        "    imp_df = pd.DataFrame(data={'Feature': X.columns, 'Importance': np.array(imp)})\n",
        "    imp_df = imp_df.set_index('Feature').sort_values('Importance', ascending=False)\n",
        "    return imp_df\n",
        "\n",
        "imp1 = get_imp(X=X)\n",
        "imp1.reset_index().plot('Feature', 'Importance', figsize=(10,6), legend=False);"
      ],
      "execution_count": null,
      "outputs": [
        {
          "output_type": "display_data",
          "data": {
            "image/png": "[encoded data removed]",
            "text/plain": [
              "<Figure size 720x432 with 1 Axes>"
            ]
          },
          "metadata": {
            "tags": [],
            "needs_background": "light"
          }
        }
      ]
    },
    {
      "cell_type": "code",
      "metadata": {
        "colab": {
          "base_uri": "https://localhost:8080/",
          "height": 332
        },
        "id": "Gahuq25M5DXG",
        "outputId": "e02b4d3f-c52f-4b3d-95a9-f359c2209f7f"
      },
      "source": [
        "plot_importances(imp1, imp_range=(min(imp1.values), max(imp1.values)))"
      ],
      "execution_count": null,
      "outputs": [
        {
          "output_type": "execute_result",
          "data": {
            "text/plain": [
              "<rfpimp.PimpViz at 0x7f5fcc1bb390>"
            ],
            "image/svg+xml": "<?xml version=\"1.0\" encoding=\"utf-8\" standalone=\"no\"?>\n<!DOCTYPE svg PUBLIC \"-//W3C//DTD SVG 1.1//EN\"\n  \"http://www.w3.org/Graphics/SVG/1.1/DTD/svg11.dtd\">\n<!-- Created with matplotlib (https://matplotlib.org/) -->\n<svg height=\"232.958125pt\" version=\"1.1\" viewBox=\"0 0 266.967188 232.958125\" width=\"266.967188pt\" xmlns=\"http://www.w3.org/2000/svg\" xmlns:xlink=\"http://www.w3.org/1999/xlink\">\n <defs>\n  <style type=\"text/css\">\n*{stroke-linecap:butt;stroke-linejoin:round;}\n  </style>\n </defs>\n <g id=\"figure_1\">\n  <g id=\"patch_1\">\n   <path d=\"M 0 232.958125 \nL 266.967188 232.958125 \nL 266.967188 0 \nL 0 0 \nz\n\" style=\"fill:#ffffff;\"/>\n  </g>\n  <g id=\"axes_1\">\n   <g id=\"patch_2\">\n    <path d=\"M 118.496875 216.28 \nL 255.834375 216.28 \nL 255.834375 -0 \nL 118.496875 -0 \nz\n\" style=\"fill:#ffffff;\"/>\n   </g>\n   <g id=\"patch_3\">\n    <path clip-path=\"url(#p1ba0aa3c89)\" d=\"M 147.346364 1.221921 \nL 226.963253 1.221921 \nL 226.963253 13.44113 \nL 147.346364 13.44113 \nz\n\" style=\"fill:#d9e6f5;stroke:#444443;stroke-linejoin:miter;stroke-width:0.5;\"/>\n   </g>\n   <g id=\"patch_4\">\n    <path clip-path=\"url(#p1ba0aa3c89)\" d=\"M 147.346364 14.663051 \nL 226.80267 14.663051 \nL 226.80267 26.88226 \nL 147.346364 26.88226 \nz\n\" style=\"fill:#d9e6f5;stroke:#444443;stroke-linejoin:miter;stroke-width:0.5;\"/>\n   </g>\n   <g id=\"patch_5\">\n    <path clip-path=\"url(#p1ba0aa3c89)\" d=\"M 147.346364 28.104181 \nL 187.259208 28.104181 \nL 187.259208 40.32339 \nL 147.346364 40.32339 \nz\n\" style=\"fill:#d9e6f5;stroke:#444443;stroke-linejoin:miter;stroke-width:0.5;\"/>\n   </g>\n   <g id=\"patch_6\">\n    <path clip-path=\"url(#p1ba0aa3c89)\" d=\"M 147.346364 41.545311 \nL 182.039455 41.545311 \nL 182.039455 53.76452 \nL 147.346364 53.76452 \nz\n\" style=\"fill:#d9e6f5;stroke:#444443;stroke-linejoin:miter;stroke-width:0.5;\"/>\n   </g>\n   <g id=\"patch_7\">\n    <path clip-path=\"url(#p1ba0aa3c89)\" d=\"M 147.346364 54.986441 \nL 164.179532 54.986441 \nL 164.179532 67.20565 \nL 147.346364 67.20565 \nz\n\" style=\"fill:#d9e6f5;stroke:#444443;stroke-linejoin:miter;stroke-width:0.5;\"/>\n   </g>\n   <g id=\"patch_8\">\n    <path clip-path=\"url(#p1ba0aa3c89)\" d=\"M 147.346364 68.427571 \nL 163.967587 68.427571 \nL 163.967587 80.64678 \nL 147.346364 80.64678 \nz\n\" style=\"fill:#d9e6f5;stroke:#444443;stroke-linejoin:miter;stroke-width:0.5;\"/>\n   </g>\n   <g id=\"patch_9\">\n    <path clip-path=\"url(#p1ba0aa3c89)\" d=\"M 147.346364 81.868701 \nL 163.825037 81.868701 \nL 163.825037 94.08791 \nL 147.346364 94.08791 \nz\n\" style=\"fill:#d9e6f5;stroke:#444443;stroke-linejoin:miter;stroke-width:0.5;\"/>\n   </g>\n   <g id=\"patch_10\">\n    <path clip-path=\"url(#p1ba0aa3c89)\" d=\"M 147.346364 95.309831 \nL 157.88656 95.309831 \nL 157.88656 107.52904 \nL 147.346364 107.52904 \nz\n\" style=\"fill:#d9e6f5;stroke:#444443;stroke-linejoin:miter;stroke-width:0.5;\"/>\n   </g>\n   <g id=\"patch_11\">\n    <path clip-path=\"url(#p1ba0aa3c89)\" d=\"M 147.346364 108.75096 \nL 156.55261 108.75096 \nL 156.55261 120.970169 \nL 147.346364 120.970169 \nz\n\" style=\"fill:#d9e6f5;stroke:#444443;stroke-linejoin:miter;stroke-width:0.5;\"/>\n   </g>\n   <g id=\"patch_12\">\n    <path clip-path=\"url(#p1ba0aa3c89)\" d=\"M 147.346364 122.19209 \nL 156.00681 122.19209 \nL 156.00681 134.411299 \nL 147.346364 134.411299 \nz\n\" style=\"fill:#d9e6f5;stroke:#444443;stroke-linejoin:miter;stroke-width:0.5;\"/>\n   </g>\n   <g id=\"patch_13\">\n    <path clip-path=\"url(#p1ba0aa3c89)\" d=\"M 147.346364 135.63322 \nL 152.358039 135.63322 \nL 152.358039 147.852429 \nL 147.346364 147.852429 \nz\n\" style=\"fill:#d9e6f5;stroke:#444443;stroke-linejoin:miter;stroke-width:0.5;\"/>\n   </g>\n   <g id=\"patch_14\">\n    <path clip-path=\"url(#p1ba0aa3c89)\" d=\"M 147.346364 149.07435 \nL 149.754511 149.07435 \nL 149.754511 161.293559 \nL 147.346364 161.293559 \nz\n\" style=\"fill:#d9e6f5;stroke:#444443;stroke-linejoin:miter;stroke-width:0.5;\"/>\n   </g>\n   <g id=\"patch_15\">\n    <path clip-path=\"url(#p1ba0aa3c89)\" d=\"M 147.346364 162.51548 \nL 149.293769 162.51548 \nL 149.293769 174.734689 \nL 147.346364 174.734689 \nz\n\" style=\"fill:#d9e6f5;stroke:#444443;stroke-linejoin:miter;stroke-width:0.5;\"/>\n   </g>\n   <g id=\"patch_16\">\n    <path clip-path=\"url(#p1ba0aa3c89)\" d=\"M 147.346364 175.95661 \nL 148.31275 175.95661 \nL 148.31275 188.175819 \nL 147.346364 188.175819 \nz\n\" style=\"fill:#d9e6f5;stroke:#444443;stroke-linejoin:miter;stroke-width:0.5;\"/>\n   </g>\n   <g id=\"patch_17\">\n    <path clip-path=\"url(#p1ba0aa3c89)\" d=\"M 147.346364 189.39774 \nL 147.661663 189.39774 \nL 147.661663 201.616949 \nL 147.346364 201.616949 \nz\n\" style=\"fill:#d9e6f5;stroke:#444443;stroke-linejoin:miter;stroke-width:0.5;\"/>\n   </g>\n   <g id=\"patch_18\">\n    <path clip-path=\"url(#p1ba0aa3c89)\" d=\"M 147.346364 202.83887 \nL 147.367997 202.83887 \nL 147.367997 215.058079 \nL 147.346364 215.058079 \nz\n\" style=\"fill:#d9e6f5;stroke:#444443;stroke-linejoin:miter;stroke-width:0.5;\"/>\n   </g>\n   <g id=\"matplotlib.axis_1\">\n    <g id=\"xtick_1\">\n     <g id=\"line2d_1\">\n      <defs>\n       <path d=\"M 0 0 \nL 0 3.5 \n\" id=\"mfc21a1a476\" style=\"stroke:#000000;stroke-width:0.8;\"/>\n      </defs>\n      <g>\n       <use style=\"stroke:#000000;stroke-width:0.8;\" x=\"147.346364\" xlink:href=\"#mfc21a1a476\" y=\"216.28\"/>\n      </g>\n     </g>\n     <g id=\"text_1\">\n      <!-- 0.00 -->\n      <defs>\n       <path d=\"M 31.78125 66.40625 \nQ 24.171875 66.40625 20.328125 58.90625 \nQ 16.5 51.421875 16.5 36.375 \nQ 16.5 21.390625 20.328125 13.890625 \nQ 24.171875 6.390625 31.78125 6.390625 \nQ 39.453125 6.390625 43.28125 13.890625 \nQ 47.125 21.390625 47.125 36.375 \nQ 47.125 51.421875 43.28125 58.90625 \nQ 39.453125 66.40625 31.78125 66.40625 \nz\nM 31.78125 74.21875 \nQ 44.046875 74.21875 50.515625 64.515625 \nQ 56.984375 54.828125 56.984375 36.375 \nQ 56.984375 17.96875 50.515625 8.265625 \nQ 44.046875 -1.421875 31.78125 -1.421875 \nQ 19.53125 -1.421875 13.0625 8.265625 \nQ 6.59375 17.96875 6.59375 36.375 \nQ 6.59375 54.828125 13.0625 64.515625 \nQ 19.53125 74.21875 31.78125 74.21875 \nz\n\" id=\"DejaVuSans-48\"/>\n       <path d=\"M 10.6875 12.40625 \nL 21 12.40625 \nL 21 0 \nL 10.6875 0 \nz\n\" id=\"DejaVuSans-46\"/>\n      </defs>\n      <g style=\"fill:#444443;\" transform=\"translate(136.213552 230.878438)scale(0.1 -0.1)\">\n       <use xlink:href=\"#DejaVuSans-48\"/>\n       <use x=\"63.623047\" xlink:href=\"#DejaVuSans-46\"/>\n       <use x=\"95.410156\" xlink:href=\"#DejaVuSans-48\"/>\n       <use x=\"159.033203\" xlink:href=\"#DejaVuSans-48\"/>\n      </g>\n     </g>\n    </g>\n    <g id=\"xtick_2\">\n     <g id=\"line2d_2\">\n      <g>\n       <use style=\"stroke:#000000;stroke-width:0.8;\" x=\"255.834375\" xlink:href=\"#mfc21a1a476\" y=\"216.28\"/>\n      </g>\n     </g>\n     <g id=\"text_2\">\n      <!-- 0.01 -->\n      <defs>\n       <path d=\"M 12.40625 8.296875 \nL 28.515625 8.296875 \nL 28.515625 63.921875 \nL 10.984375 60.40625 \nL 10.984375 69.390625 \nL 28.421875 72.90625 \nL 38.28125 72.90625 \nL 38.28125 8.296875 \nL 54.390625 8.296875 \nL 54.390625 0 \nL 12.40625 0 \nz\n\" id=\"DejaVuSans-49\"/>\n      </defs>\n      <g style=\"fill:#444443;\" transform=\"translate(244.701563 230.878438)scale(0.1 -0.1)\">\n       <use xlink:href=\"#DejaVuSans-48\"/>\n       <use x=\"63.623047\" xlink:href=\"#DejaVuSans-46\"/>\n       <use x=\"95.410156\" xlink:href=\"#DejaVuSans-48\"/>\n       <use x=\"159.033203\" xlink:href=\"#DejaVuSans-49\"/>\n      </g>\n     </g>\n    </g>\n   </g>\n   <g id=\"matplotlib.axis_2\">\n    <g id=\"ytick_1\">\n     <g id=\"line2d_3\">\n      <defs>\n       <path d=\"M 0 0 \nL -3.5 0 \n\" id=\"mce78f6557d\" style=\"stroke:#000000;stroke-width:0.8;\"/>\n      </defs>\n      <g>\n       <use style=\"stroke:#000000;stroke-width:0.8;\" x=\"118.496875\" xlink:href=\"#mce78f6557d\" y=\"7.331525\"/>\n      </g>\n     </g>\n     <g id=\"text_3\">\n      <!-- endY -->\n      <defs>\n       <path d=\"M 56.203125 29.59375 \nL 56.203125 25.203125 \nL 14.890625 25.203125 \nQ 15.484375 15.921875 20.484375 11.0625 \nQ 25.484375 6.203125 34.421875 6.203125 \nQ 39.59375 6.203125 44.453125 7.46875 \nQ 49.3125 8.734375 54.109375 11.28125 \nL 54.109375 2.78125 \nQ 49.265625 0.734375 44.1875 -0.34375 \nQ 39.109375 -1.421875 33.890625 -1.421875 \nQ 20.796875 -1.421875 13.15625 6.1875 \nQ 5.515625 13.8125 5.515625 26.8125 \nQ 5.515625 40.234375 12.765625 48.109375 \nQ 20.015625 56 32.328125 56 \nQ 43.359375 56 49.78125 48.890625 \nQ 56.203125 41.796875 56.203125 29.59375 \nz\nM 47.21875 32.234375 \nQ 47.125 39.59375 43.09375 43.984375 \nQ 39.0625 48.390625 32.421875 48.390625 \nQ 24.90625 48.390625 20.390625 44.140625 \nQ 15.875 39.890625 15.1875 32.171875 \nz\n\" id=\"DejaVuSans-101\"/>\n       <path d=\"M 54.890625 33.015625 \nL 54.890625 0 \nL 45.90625 0 \nL 45.90625 32.71875 \nQ 45.90625 40.484375 42.875 44.328125 \nQ 39.84375 48.1875 33.796875 48.1875 \nQ 26.515625 48.1875 22.3125 43.546875 \nQ 18.109375 38.921875 18.109375 30.90625 \nL 18.109375 0 \nL 9.078125 0 \nL 9.078125 54.6875 \nL 18.109375 54.6875 \nL 18.109375 46.1875 \nQ 21.34375 51.125 25.703125 53.5625 \nQ 30.078125 56 35.796875 56 \nQ 45.21875 56 50.046875 50.171875 \nQ 54.890625 44.34375 54.890625 33.015625 \nz\n\" id=\"DejaVuSans-110\"/>\n       <path d=\"M 45.40625 46.390625 \nL 45.40625 75.984375 \nL 54.390625 75.984375 \nL 54.390625 0 \nL 45.40625 0 \nL 45.40625 8.203125 \nQ 42.578125 3.328125 38.25 0.953125 \nQ 33.9375 -1.421875 27.875 -1.421875 \nQ 17.96875 -1.421875 11.734375 6.484375 \nQ 5.515625 14.40625 5.515625 27.296875 \nQ 5.515625 40.1875 11.734375 48.09375 \nQ 17.96875 56 27.875 56 \nQ 33.9375 56 38.25 53.625 \nQ 42.578125 51.265625 45.40625 46.390625 \nz\nM 14.796875 27.296875 \nQ 14.796875 17.390625 18.875 11.75 \nQ 22.953125 6.109375 30.078125 6.109375 \nQ 37.203125 6.109375 41.296875 11.75 \nQ 45.40625 17.390625 45.40625 27.296875 \nQ 45.40625 37.203125 41.296875 42.84375 \nQ 37.203125 48.484375 30.078125 48.484375 \nQ 22.953125 48.484375 18.875 42.84375 \nQ 14.796875 37.203125 14.796875 27.296875 \nz\n\" id=\"DejaVuSans-100\"/>\n       <path d=\"M -0.203125 72.90625 \nL 10.40625 72.90625 \nL 30.609375 42.921875 \nL 50.6875 72.90625 \nL 61.28125 72.90625 \nL 35.5 34.71875 \nL 35.5 0 \nL 25.59375 0 \nL 25.59375 34.71875 \nz\n\" id=\"DejaVuSans-89\"/>\n      </defs>\n      <g style=\"fill:#444443;\" transform=\"translate(86.55 11.130744)scale(0.1 -0.1)\">\n       <use xlink:href=\"#DejaVuSans-101\"/>\n       <use x=\"61.523438\" xlink:href=\"#DejaVuSans-110\"/>\n       <use x=\"124.902344\" xlink:href=\"#DejaVuSans-100\"/>\n       <use x=\"188.378906\" xlink:href=\"#DejaVuSans-89\"/>\n      </g>\n     </g>\n    </g>\n    <g id=\"ytick_2\">\n     <g id=\"line2d_4\">\n      <g>\n       <use style=\"stroke:#000000;stroke-width:0.8;\" x=\"118.496875\" xlink:href=\"#mce78f6557d\" y=\"20.772655\"/>\n      </g>\n     </g>\n     <g id=\"text_4\">\n      <!-- duration -->\n      <defs>\n       <path d=\"M 8.5 21.578125 \nL 8.5 54.6875 \nL 17.484375 54.6875 \nL 17.484375 21.921875 \nQ 17.484375 14.15625 20.5 10.265625 \nQ 23.53125 6.390625 29.59375 6.390625 \nQ 36.859375 6.390625 41.078125 11.03125 \nQ 45.3125 15.671875 45.3125 23.6875 \nL 45.3125 54.6875 \nL 54.296875 54.6875 \nL 54.296875 0 \nL 45.3125 0 \nL 45.3125 8.40625 \nQ 42.046875 3.421875 37.71875 1 \nQ 33.40625 -1.421875 27.6875 -1.421875 \nQ 18.265625 -1.421875 13.375 4.4375 \nQ 8.5 10.296875 8.5 21.578125 \nz\nM 31.109375 56 \nz\n\" id=\"DejaVuSans-117\"/>\n       <path d=\"M 41.109375 46.296875 \nQ 39.59375 47.171875 37.8125 47.578125 \nQ 36.03125 48 33.890625 48 \nQ 26.265625 48 22.1875 43.046875 \nQ 18.109375 38.09375 18.109375 28.8125 \nL 18.109375 0 \nL 9.078125 0 \nL 9.078125 54.6875 \nL 18.109375 54.6875 \nL 18.109375 46.1875 \nQ 20.953125 51.171875 25.484375 53.578125 \nQ 30.03125 56 36.53125 56 \nQ 37.453125 56 38.578125 55.875 \nQ 39.703125 55.765625 41.0625 55.515625 \nz\n\" id=\"DejaVuSans-114\"/>\n       <path d=\"M 34.28125 27.484375 \nQ 23.390625 27.484375 19.1875 25 \nQ 14.984375 22.515625 14.984375 16.5 \nQ 14.984375 11.71875 18.140625 8.90625 \nQ 21.296875 6.109375 26.703125 6.109375 \nQ 34.1875 6.109375 38.703125 11.40625 \nQ 43.21875 16.703125 43.21875 25.484375 \nL 43.21875 27.484375 \nz\nM 52.203125 31.203125 \nL 52.203125 0 \nL 43.21875 0 \nL 43.21875 8.296875 \nQ 40.140625 3.328125 35.546875 0.953125 \nQ 30.953125 -1.421875 24.3125 -1.421875 \nQ 15.921875 -1.421875 10.953125 3.296875 \nQ 6 8.015625 6 15.921875 \nQ 6 25.140625 12.171875 29.828125 \nQ 18.359375 34.515625 30.609375 34.515625 \nL 43.21875 34.515625 \nL 43.21875 35.40625 \nQ 43.21875 41.609375 39.140625 45 \nQ 35.0625 48.390625 27.6875 48.390625 \nQ 23 48.390625 18.546875 47.265625 \nQ 14.109375 46.140625 10.015625 43.890625 \nL 10.015625 52.203125 \nQ 14.9375 54.109375 19.578125 55.046875 \nQ 24.21875 56 28.609375 56 \nQ 40.484375 56 46.34375 49.84375 \nQ 52.203125 43.703125 52.203125 31.203125 \nz\n\" id=\"DejaVuSans-97\"/>\n       <path d=\"M 18.3125 70.21875 \nL 18.3125 54.6875 \nL 36.8125 54.6875 \nL 36.8125 47.703125 \nL 18.3125 47.703125 \nL 18.3125 18.015625 \nQ 18.3125 11.328125 20.140625 9.421875 \nQ 21.96875 7.515625 27.59375 7.515625 \nL 36.8125 7.515625 \nL 36.8125 0 \nL 27.59375 0 \nQ 17.1875 0 13.234375 3.875 \nQ 9.28125 7.765625 9.28125 18.015625 \nL 9.28125 47.703125 \nL 2.6875 47.703125 \nL 2.6875 54.6875 \nL 9.28125 54.6875 \nL 9.28125 70.21875 \nz\n\" id=\"DejaVuSans-116\"/>\n       <path d=\"M 9.421875 54.6875 \nL 18.40625 54.6875 \nL 18.40625 0 \nL 9.421875 0 \nz\nM 9.421875 75.984375 \nL 18.40625 75.984375 \nL 18.40625 64.59375 \nL 9.421875 64.59375 \nz\n\" id=\"DejaVuSans-105\"/>\n       <path d=\"M 30.609375 48.390625 \nQ 23.390625 48.390625 19.1875 42.75 \nQ 14.984375 37.109375 14.984375 27.296875 \nQ 14.984375 17.484375 19.15625 11.84375 \nQ 23.34375 6.203125 30.609375 6.203125 \nQ 37.796875 6.203125 41.984375 11.859375 \nQ 46.1875 17.53125 46.1875 27.296875 \nQ 46.1875 37.015625 41.984375 42.703125 \nQ 37.796875 48.390625 30.609375 48.390625 \nz\nM 30.609375 56 \nQ 42.328125 56 49.015625 48.375 \nQ 55.71875 40.765625 55.71875 27.296875 \nQ 55.71875 13.875 49.015625 6.21875 \nQ 42.328125 -1.421875 30.609375 -1.421875 \nQ 18.84375 -1.421875 12.171875 6.21875 \nQ 5.515625 13.875 5.515625 27.296875 \nQ 5.515625 40.765625 12.171875 48.375 \nQ 18.84375 56 30.609375 56 \nz\n\" id=\"DejaVuSans-111\"/>\n      </defs>\n      <g style=\"fill:#444443;\" transform=\"translate(69.417187 24.571874)scale(0.1 -0.1)\">\n       <use xlink:href=\"#DejaVuSans-100\"/>\n       <use x=\"63.476562\" xlink:href=\"#DejaVuSans-117\"/>\n       <use x=\"126.855469\" xlink:href=\"#DejaVuSans-114\"/>\n       <use x=\"167.96875\" xlink:href=\"#DejaVuSans-97\"/>\n       <use x=\"229.248047\" xlink:href=\"#DejaVuSans-116\"/>\n       <use x=\"268.457031\" xlink:href=\"#DejaVuSans-105\"/>\n       <use x=\"296.240234\" xlink:href=\"#DejaVuSans-111\"/>\n       <use x=\"357.421875\" xlink:href=\"#DejaVuSans-110\"/>\n      </g>\n     </g>\n    </g>\n    <g id=\"ytick_3\">\n     <g id=\"line2d_5\">\n      <g>\n       <use style=\"stroke:#000000;stroke-width:0.8;\" x=\"118.496875\" xlink:href=\"#mce78f6557d\" y=\"34.213785\"/>\n      </g>\n     </g>\n     <g id=\"text_5\">\n      <!-- pass_height_name -->\n      <defs>\n       <path d=\"M 18.109375 8.203125 \nL 18.109375 -20.796875 \nL 9.078125 -20.796875 \nL 9.078125 54.6875 \nL 18.109375 54.6875 \nL 18.109375 46.390625 \nQ 20.953125 51.265625 25.265625 53.625 \nQ 29.59375 56 35.59375 56 \nQ 45.5625 56 51.78125 48.09375 \nQ 58.015625 40.1875 58.015625 27.296875 \nQ 58.015625 14.40625 51.78125 6.484375 \nQ 45.5625 -1.421875 35.59375 -1.421875 \nQ 29.59375 -1.421875 25.265625 0.953125 \nQ 20.953125 3.328125 18.109375 8.203125 \nz\nM 48.6875 27.296875 \nQ 48.6875 37.203125 44.609375 42.84375 \nQ 40.53125 48.484375 33.40625 48.484375 \nQ 26.265625 48.484375 22.1875 42.84375 \nQ 18.109375 37.203125 18.109375 27.296875 \nQ 18.109375 17.390625 22.1875 11.75 \nQ 26.265625 6.109375 33.40625 6.109375 \nQ 40.53125 6.109375 44.609375 11.75 \nQ 48.6875 17.390625 48.6875 27.296875 \nz\n\" id=\"DejaVuSans-112\"/>\n       <path d=\"M 44.28125 53.078125 \nL 44.28125 44.578125 \nQ 40.484375 46.53125 36.375 47.5 \nQ 32.28125 48.484375 27.875 48.484375 \nQ 21.1875 48.484375 17.84375 46.4375 \nQ 14.5 44.390625 14.5 40.28125 \nQ 14.5 37.15625 16.890625 35.375 \nQ 19.28125 33.59375 26.515625 31.984375 \nL 29.59375 31.296875 \nQ 39.15625 29.25 43.1875 25.515625 \nQ 47.21875 21.78125 47.21875 15.09375 \nQ 47.21875 7.46875 41.1875 3.015625 \nQ 35.15625 -1.421875 24.609375 -1.421875 \nQ 20.21875 -1.421875 15.453125 -0.5625 \nQ 10.6875 0.296875 5.421875 2 \nL 5.421875 11.28125 \nQ 10.40625 8.6875 15.234375 7.390625 \nQ 20.0625 6.109375 24.8125 6.109375 \nQ 31.15625 6.109375 34.5625 8.28125 \nQ 37.984375 10.453125 37.984375 14.40625 \nQ 37.984375 18.0625 35.515625 20.015625 \nQ 33.0625 21.96875 24.703125 23.78125 \nL 21.578125 24.515625 \nQ 13.234375 26.265625 9.515625 29.90625 \nQ 5.8125 33.546875 5.8125 39.890625 \nQ 5.8125 47.609375 11.28125 51.796875 \nQ 16.75 56 26.8125 56 \nQ 31.78125 56 36.171875 55.265625 \nQ 40.578125 54.546875 44.28125 53.078125 \nz\n\" id=\"DejaVuSans-115\"/>\n       <path d=\"M 50.984375 -16.609375 \nL 50.984375 -23.578125 \nL -0.984375 -23.578125 \nL -0.984375 -16.609375 \nz\n\" id=\"DejaVuSans-95\"/>\n       <path d=\"M 54.890625 33.015625 \nL 54.890625 0 \nL 45.90625 0 \nL 45.90625 32.71875 \nQ 45.90625 40.484375 42.875 44.328125 \nQ 39.84375 48.1875 33.796875 48.1875 \nQ 26.515625 48.1875 22.3125 43.546875 \nQ 18.109375 38.921875 18.109375 30.90625 \nL 18.109375 0 \nL 9.078125 0 \nL 9.078125 75.984375 \nL 18.109375 75.984375 \nL 18.109375 46.1875 \nQ 21.34375 51.125 25.703125 53.5625 \nQ 30.078125 56 35.796875 56 \nQ 45.21875 56 50.046875 50.171875 \nQ 54.890625 44.34375 54.890625 33.015625 \nz\n\" id=\"DejaVuSans-104\"/>\n       <path d=\"M 45.40625 27.984375 \nQ 45.40625 37.75 41.375 43.109375 \nQ 37.359375 48.484375 30.078125 48.484375 \nQ 22.859375 48.484375 18.828125 43.109375 \nQ 14.796875 37.75 14.796875 27.984375 \nQ 14.796875 18.265625 18.828125 12.890625 \nQ 22.859375 7.515625 30.078125 7.515625 \nQ 37.359375 7.515625 41.375 12.890625 \nQ 45.40625 18.265625 45.40625 27.984375 \nz\nM 54.390625 6.78125 \nQ 54.390625 -7.171875 48.1875 -13.984375 \nQ 42 -20.796875 29.203125 -20.796875 \nQ 24.46875 -20.796875 20.265625 -20.09375 \nQ 16.0625 -19.390625 12.109375 -17.921875 \nL 12.109375 -9.1875 \nQ 16.0625 -11.328125 19.921875 -12.34375 \nQ 23.78125 -13.375 27.78125 -13.375 \nQ 36.625 -13.375 41.015625 -8.765625 \nQ 45.40625 -4.15625 45.40625 5.171875 \nL 45.40625 9.625 \nQ 42.625 4.78125 38.28125 2.390625 \nQ 33.9375 0 27.875 0 \nQ 17.828125 0 11.671875 7.65625 \nQ 5.515625 15.328125 5.515625 27.984375 \nQ 5.515625 40.671875 11.671875 48.328125 \nQ 17.828125 56 27.875 56 \nQ 33.9375 56 38.28125 53.609375 \nQ 42.625 51.21875 45.40625 46.390625 \nL 45.40625 54.6875 \nL 54.390625 54.6875 \nz\n\" id=\"DejaVuSans-103\"/>\n       <path d=\"M 52 44.1875 \nQ 55.375 50.25 60.0625 53.125 \nQ 64.75 56 71.09375 56 \nQ 79.640625 56 84.28125 50.015625 \nQ 88.921875 44.046875 88.921875 33.015625 \nL 88.921875 0 \nL 79.890625 0 \nL 79.890625 32.71875 \nQ 79.890625 40.578125 77.09375 44.375 \nQ 74.3125 48.1875 68.609375 48.1875 \nQ 61.625 48.1875 57.5625 43.546875 \nQ 53.515625 38.921875 53.515625 30.90625 \nL 53.515625 0 \nL 44.484375 0 \nL 44.484375 32.71875 \nQ 44.484375 40.625 41.703125 44.40625 \nQ 38.921875 48.1875 33.109375 48.1875 \nQ 26.21875 48.1875 22.15625 43.53125 \nQ 18.109375 38.875 18.109375 30.90625 \nL 18.109375 0 \nL 9.078125 0 \nL 9.078125 54.6875 \nL 18.109375 54.6875 \nL 18.109375 46.1875 \nQ 21.1875 51.21875 25.484375 53.609375 \nQ 29.78125 56 35.6875 56 \nQ 41.65625 56 45.828125 52.96875 \nQ 50 49.953125 52 44.1875 \nz\n\" id=\"DejaVuSans-109\"/>\n      </defs>\n      <g style=\"fill:#444443;\" transform=\"translate(18.367188 38.013004)scale(0.1 -0.1)\">\n       <use xlink:href=\"#DejaVuSans-112\"/>\n       <use x=\"63.476562\" xlink:href=\"#DejaVuSans-97\"/>\n       <use x=\"124.755859\" xlink:href=\"#DejaVuSans-115\"/>\n       <use x=\"176.855469\" xlink:href=\"#DejaVuSans-115\"/>\n       <use x=\"228.955078\" xlink:href=\"#DejaVuSans-95\"/>\n       <use x=\"278.955078\" xlink:href=\"#DejaVuSans-104\"/>\n       <use x=\"342.333984\" xlink:href=\"#DejaVuSans-101\"/>\n       <use x=\"403.857422\" xlink:href=\"#DejaVuSans-105\"/>\n       <use x=\"431.640625\" xlink:href=\"#DejaVuSans-103\"/>\n       <use x=\"495.117188\" xlink:href=\"#DejaVuSans-104\"/>\n       <use x=\"558.496094\" xlink:href=\"#DejaVuSans-116\"/>\n       <use x=\"597.705078\" xlink:href=\"#DejaVuSans-95\"/>\n       <use x=\"647.705078\" xlink:href=\"#DejaVuSans-110\"/>\n       <use x=\"711.083984\" xlink:href=\"#DejaVuSans-97\"/>\n       <use x=\"772.363281\" xlink:href=\"#DejaVuSans-109\"/>\n       <use x=\"869.775391\" xlink:href=\"#DejaVuSans-101\"/>\n      </g>\n     </g>\n    </g>\n    <g id=\"ytick_4\">\n     <g id=\"line2d_6\">\n      <g>\n       <use style=\"stroke:#000000;stroke-width:0.8;\" x=\"118.496875\" xlink:href=\"#mce78f6557d\" y=\"47.654915\"/>\n      </g>\n     </g>\n     <g id=\"text_6\">\n      <!-- distance -->\n      <defs>\n       <path d=\"M 48.78125 52.59375 \nL 48.78125 44.1875 \nQ 44.96875 46.296875 41.140625 47.34375 \nQ 37.3125 48.390625 33.40625 48.390625 \nQ 24.65625 48.390625 19.8125 42.84375 \nQ 14.984375 37.3125 14.984375 27.296875 \nQ 14.984375 17.28125 19.8125 11.734375 \nQ 24.65625 6.203125 33.40625 6.203125 \nQ 37.3125 6.203125 41.140625 7.25 \nQ 44.96875 8.296875 48.78125 10.40625 \nL 48.78125 2.09375 \nQ 45.015625 0.34375 40.984375 -0.53125 \nQ 36.96875 -1.421875 32.421875 -1.421875 \nQ 20.0625 -1.421875 12.78125 6.34375 \nQ 5.515625 14.109375 5.515625 27.296875 \nQ 5.515625 40.671875 12.859375 48.328125 \nQ 20.21875 56 33.015625 56 \nQ 37.15625 56 41.109375 55.140625 \nQ 45.0625 54.296875 48.78125 52.59375 \nz\n\" id=\"DejaVuSans-99\"/>\n      </defs>\n      <g style=\"fill:#444443;\" transform=\"translate(69.123437 51.454134)scale(0.1 -0.1)\">\n       <use xlink:href=\"#DejaVuSans-100\"/>\n       <use x=\"63.476562\" xlink:href=\"#DejaVuSans-105\"/>\n       <use x=\"91.259766\" xlink:href=\"#DejaVuSans-115\"/>\n       <use x=\"143.359375\" xlink:href=\"#DejaVuSans-116\"/>\n       <use x=\"182.568359\" xlink:href=\"#DejaVuSans-97\"/>\n       <use x=\"243.847656\" xlink:href=\"#DejaVuSans-110\"/>\n       <use x=\"307.226562\" xlink:href=\"#DejaVuSans-99\"/>\n       <use x=\"362.207031\" xlink:href=\"#DejaVuSans-101\"/>\n      </g>\n     </g>\n    </g>\n    <g id=\"ytick_5\">\n     <g id=\"line2d_7\">\n      <g>\n       <use style=\"stroke:#000000;stroke-width:0.8;\" x=\"118.496875\" xlink:href=\"#mce78f6557d\" y=\"61.096045\"/>\n      </g>\n     </g>\n     <g id=\"text_7\">\n      <!-- endX -->\n      <defs>\n       <path d=\"M 6.296875 72.90625 \nL 16.890625 72.90625 \nL 35.015625 45.796875 \nL 53.21875 72.90625 \nL 63.8125 72.90625 \nL 40.375 37.890625 \nL 65.375 0 \nL 54.78125 0 \nL 34.28125 31 \nL 13.625 0 \nL 2.984375 0 \nL 29 38.921875 \nz\n\" id=\"DejaVuSans-88\"/>\n      </defs>\n      <g style=\"fill:#444443;\" transform=\"translate(85.807812 64.895264)scale(0.1 -0.1)\">\n       <use xlink:href=\"#DejaVuSans-101\"/>\n       <use x=\"61.523438\" xlink:href=\"#DejaVuSans-110\"/>\n       <use x=\"124.902344\" xlink:href=\"#DejaVuSans-100\"/>\n       <use x=\"188.378906\" xlink:href=\"#DejaVuSans-88\"/>\n      </g>\n     </g>\n    </g>\n    <g id=\"ytick_6\">\n     <g id=\"line2d_8\">\n      <g>\n       <use style=\"stroke:#000000;stroke-width:0.8;\" x=\"118.496875\" xlink:href=\"#mce78f6557d\" y=\"74.537175\"/>\n      </g>\n     </g>\n     <g id=\"text_8\">\n      <!-- angle -->\n      <defs>\n       <path d=\"M 9.421875 75.984375 \nL 18.40625 75.984375 \nL 18.40625 0 \nL 9.421875 0 \nz\n\" id=\"DejaVuSans-108\"/>\n      </defs>\n      <g style=\"fill:#444443;\" transform=\"translate(83.751563 78.336394)scale(0.1 -0.1)\">\n       <use xlink:href=\"#DejaVuSans-97\"/>\n       <use x=\"61.279297\" xlink:href=\"#DejaVuSans-110\"/>\n       <use x=\"124.658203\" xlink:href=\"#DejaVuSans-103\"/>\n       <use x=\"188.134766\" xlink:href=\"#DejaVuSans-108\"/>\n       <use x=\"215.917969\" xlink:href=\"#DejaVuSans-101\"/>\n      </g>\n     </g>\n    </g>\n    <g id=\"ytick_7\">\n     <g id=\"line2d_9\">\n      <g>\n       <use style=\"stroke:#000000;stroke-width:0.8;\" x=\"118.496875\" xlink:href=\"#mce78f6557d\" y=\"87.978305\"/>\n      </g>\n     </g>\n     <g id=\"text_9\">\n      <!-- play_pattern_name -->\n      <defs>\n       <path d=\"M 32.171875 -5.078125 \nQ 28.375 -14.84375 24.75 -17.8125 \nQ 21.140625 -20.796875 15.09375 -20.796875 \nL 7.90625 -20.796875 \nL 7.90625 -13.28125 \nL 13.1875 -13.28125 \nQ 16.890625 -13.28125 18.9375 -11.515625 \nQ 21 -9.765625 23.484375 -3.21875 \nL 25.09375 0.875 \nL 2.984375 54.6875 \nL 12.5 54.6875 \nL 29.59375 11.921875 \nL 46.6875 54.6875 \nL 56.203125 54.6875 \nz\n\" id=\"DejaVuSans-121\"/>\n      </defs>\n      <g style=\"fill:#444443;\" transform=\"translate(15.220312 91.777524)scale(0.1 -0.1)\">\n       <use xlink:href=\"#DejaVuSans-112\"/>\n       <use x=\"63.476562\" xlink:href=\"#DejaVuSans-108\"/>\n       <use x=\"91.259766\" xlink:href=\"#DejaVuSans-97\"/>\n       <use x=\"152.539062\" xlink:href=\"#DejaVuSans-121\"/>\n       <use x=\"211.71875\" xlink:href=\"#DejaVuSans-95\"/>\n       <use x=\"261.71875\" xlink:href=\"#DejaVuSans-112\"/>\n       <use x=\"325.195312\" xlink:href=\"#DejaVuSans-97\"/>\n       <use x=\"386.474609\" xlink:href=\"#DejaVuSans-116\"/>\n       <use x=\"425.683594\" xlink:href=\"#DejaVuSans-116\"/>\n       <use x=\"464.892578\" xlink:href=\"#DejaVuSans-101\"/>\n       <use x=\"526.416016\" xlink:href=\"#DejaVuSans-114\"/>\n       <use x=\"565.779297\" xlink:href=\"#DejaVuSans-110\"/>\n       <use x=\"629.158203\" xlink:href=\"#DejaVuSans-95\"/>\n       <use x=\"679.158203\" xlink:href=\"#DejaVuSans-110\"/>\n       <use x=\"742.537109\" xlink:href=\"#DejaVuSans-97\"/>\n       <use x=\"803.816406\" xlink:href=\"#DejaVuSans-109\"/>\n       <use x=\"901.228516\" xlink:href=\"#DejaVuSans-101\"/>\n      </g>\n     </g>\n    </g>\n    <g id=\"ytick_8\">\n     <g id=\"line2d_10\">\n      <g>\n       <use style=\"stroke:#000000;stroke-width:0.8;\" x=\"118.496875\" xlink:href=\"#mce78f6557d\" y=\"101.419435\"/>\n      </g>\n     </g>\n     <g id=\"text_10\">\n      <!-- y -->\n      <g style=\"fill:#444443;\" transform=\"translate(105.578125 105.218654)scale(0.1 -0.1)\">\n       <use xlink:href=\"#DejaVuSans-121\"/>\n      </g>\n     </g>\n    </g>\n    <g id=\"ytick_9\">\n     <g id=\"line2d_11\">\n      <g>\n       <use style=\"stroke:#000000;stroke-width:0.8;\" x=\"118.496875\" xlink:href=\"#mce78f6557d\" y=\"114.860565\"/>\n      </g>\n     </g>\n     <g id=\"text_11\">\n      <!-- under_pressure -->\n      <g style=\"fill:#444443;\" transform=\"translate(34.026562 118.659784)scale(0.1 -0.1)\">\n       <use xlink:href=\"#DejaVuSans-117\"/>\n       <use x=\"63.378906\" xlink:href=\"#DejaVuSans-110\"/>\n       <use x=\"126.757812\" xlink:href=\"#DejaVuSans-100\"/>\n       <use x=\"190.234375\" xlink:href=\"#DejaVuSans-101\"/>\n       <use x=\"251.757812\" xlink:href=\"#DejaVuSans-114\"/>\n       <use x=\"292.871094\" xlink:href=\"#DejaVuSans-95\"/>\n       <use x=\"342.871094\" xlink:href=\"#DejaVuSans-112\"/>\n       <use x=\"406.347656\" xlink:href=\"#DejaVuSans-114\"/>\n       <use x=\"445.210938\" xlink:href=\"#DejaVuSans-101\"/>\n       <use x=\"506.734375\" xlink:href=\"#DejaVuSans-115\"/>\n       <use x=\"558.833984\" xlink:href=\"#DejaVuSans-115\"/>\n       <use x=\"610.933594\" xlink:href=\"#DejaVuSans-117\"/>\n       <use x=\"674.3125\" xlink:href=\"#DejaVuSans-114\"/>\n       <use x=\"713.175781\" xlink:href=\"#DejaVuSans-101\"/>\n      </g>\n     </g>\n    </g>\n    <g id=\"ytick_10\">\n     <g id=\"line2d_12\">\n      <g>\n       <use style=\"stroke:#000000;stroke-width:0.8;\" x=\"118.496875\" xlink:href=\"#mce78f6557d\" y=\"128.301695\"/>\n      </g>\n     </g>\n     <g id=\"text_12\">\n      <!-- pass_body_part_name -->\n      <defs>\n       <path d=\"M 48.6875 27.296875 \nQ 48.6875 37.203125 44.609375 42.84375 \nQ 40.53125 48.484375 33.40625 48.484375 \nQ 26.265625 48.484375 22.1875 42.84375 \nQ 18.109375 37.203125 18.109375 27.296875 \nQ 18.109375 17.390625 22.1875 11.75 \nQ 26.265625 6.109375 33.40625 6.109375 \nQ 40.53125 6.109375 44.609375 11.75 \nQ 48.6875 17.390625 48.6875 27.296875 \nz\nM 18.109375 46.390625 \nQ 20.953125 51.265625 25.265625 53.625 \nQ 29.59375 56 35.59375 56 \nQ 45.5625 56 51.78125 48.09375 \nQ 58.015625 40.1875 58.015625 27.296875 \nQ 58.015625 14.40625 51.78125 6.484375 \nQ 45.5625 -1.421875 35.59375 -1.421875 \nQ 29.59375 -1.421875 25.265625 0.953125 \nQ 20.953125 3.328125 18.109375 8.203125 \nL 18.109375 0 \nL 9.078125 0 \nL 9.078125 75.984375 \nL 18.109375 75.984375 \nz\n\" id=\"DejaVuSans-98\"/>\n      </defs>\n      <g style=\"fill:#444443;\" transform=\"translate(0 132.100914)scale(0.1 -0.1)\">\n       <use xlink:href=\"#DejaVuSans-112\"/>\n       <use x=\"63.476562\" xlink:href=\"#DejaVuSans-97\"/>\n       <use x=\"124.755859\" xlink:href=\"#DejaVuSans-115\"/>\n       <use x=\"176.855469\" xlink:href=\"#DejaVuSans-115\"/>\n       <use x=\"228.955078\" xlink:href=\"#DejaVuSans-95\"/>\n       <use x=\"278.955078\" xlink:href=\"#DejaVuSans-98\"/>\n       <use x=\"342.431641\" xlink:href=\"#DejaVuSans-111\"/>\n       <use x=\"403.613281\" xlink:href=\"#DejaVuSans-100\"/>\n       <use x=\"467.089844\" xlink:href=\"#DejaVuSans-121\"/>\n       <use x=\"526.269531\" xlink:href=\"#DejaVuSans-95\"/>\n       <use x=\"576.269531\" xlink:href=\"#DejaVuSans-112\"/>\n       <use x=\"639.746094\" xlink:href=\"#DejaVuSans-97\"/>\n       <use x=\"701.025391\" xlink:href=\"#DejaVuSans-114\"/>\n       <use x=\"742.138672\" xlink:href=\"#DejaVuSans-116\"/>\n       <use x=\"781.347656\" xlink:href=\"#DejaVuSans-95\"/>\n       <use x=\"831.347656\" xlink:href=\"#DejaVuSans-110\"/>\n       <use x=\"894.726562\" xlink:href=\"#DejaVuSans-97\"/>\n       <use x=\"956.005859\" xlink:href=\"#DejaVuSans-109\"/>\n       <use x=\"1053.417969\" xlink:href=\"#DejaVuSans-101\"/>\n      </g>\n     </g>\n    </g>\n    <g id=\"ytick_11\">\n     <g id=\"line2d_13\">\n      <g>\n       <use style=\"stroke:#000000;stroke-width:0.8;\" x=\"118.496875\" xlink:href=\"#mce78f6557d\" y=\"141.742825\"/>\n      </g>\n     </g>\n     <g id=\"text_13\">\n      <!-- pass_cross -->\n      <g style=\"fill:#444443;\" transform=\"translate(57.679688 145.402981)scale(0.1 -0.1)\">\n       <use xlink:href=\"#DejaVuSans-112\"/>\n       <use x=\"63.476562\" xlink:href=\"#DejaVuSans-97\"/>\n       <use x=\"124.755859\" xlink:href=\"#DejaVuSans-115\"/>\n       <use x=\"176.855469\" xlink:href=\"#DejaVuSans-115\"/>\n       <use x=\"228.955078\" xlink:href=\"#DejaVuSans-95\"/>\n       <use x=\"278.955078\" xlink:href=\"#DejaVuSans-99\"/>\n       <use x=\"333.935547\" xlink:href=\"#DejaVuSans-114\"/>\n       <use x=\"372.798828\" xlink:href=\"#DejaVuSans-111\"/>\n       <use x=\"433.980469\" xlink:href=\"#DejaVuSans-115\"/>\n       <use x=\"486.080078\" xlink:href=\"#DejaVuSans-115\"/>\n      </g>\n     </g>\n    </g>\n    <g id=\"ytick_12\">\n     <g id=\"line2d_14\">\n      <g>\n       <use style=\"stroke:#000000;stroke-width:0.8;\" x=\"118.496875\" xlink:href=\"#mce78f6557d\" y=\"155.183955\"/>\n      </g>\n     </g>\n     <g id=\"text_14\">\n      <!-- pass_through_ball -->\n      <g style=\"fill:#444443;\" transform=\"translate(21.282812 158.983174)scale(0.1 -0.1)\">\n       <use xlink:href=\"#DejaVuSans-112\"/>\n       <use x=\"63.476562\" xlink:href=\"#DejaVuSans-97\"/>\n       <use x=\"124.755859\" xlink:href=\"#DejaVuSans-115\"/>\n       <use x=\"176.855469\" xlink:href=\"#DejaVuSans-115\"/>\n       <use x=\"228.955078\" xlink:href=\"#DejaVuSans-95\"/>\n       <use x=\"278.955078\" xlink:href=\"#DejaVuSans-116\"/>\n       <use x=\"318.164062\" xlink:href=\"#DejaVuSans-104\"/>\n       <use x=\"381.542969\" xlink:href=\"#DejaVuSans-114\"/>\n       <use x=\"420.40625\" xlink:href=\"#DejaVuSans-111\"/>\n       <use x=\"481.587891\" xlink:href=\"#DejaVuSans-117\"/>\n       <use x=\"544.966797\" xlink:href=\"#DejaVuSans-103\"/>\n       <use x=\"608.443359\" xlink:href=\"#DejaVuSans-104\"/>\n       <use x=\"671.822266\" xlink:href=\"#DejaVuSans-95\"/>\n       <use x=\"721.822266\" xlink:href=\"#DejaVuSans-98\"/>\n       <use x=\"785.298828\" xlink:href=\"#DejaVuSans-97\"/>\n       <use x=\"846.578125\" xlink:href=\"#DejaVuSans-108\"/>\n       <use x=\"874.361328\" xlink:href=\"#DejaVuSans-108\"/>\n      </g>\n     </g>\n    </g>\n    <g id=\"ytick_13\">\n     <g id=\"line2d_15\">\n      <g>\n       <use style=\"stroke:#000000;stroke-width:0.8;\" x=\"118.496875\" xlink:href=\"#mce78f6557d\" y=\"168.625085\"/>\n      </g>\n     </g>\n     <g id=\"text_15\">\n      <!-- pass_deflected -->\n      <defs>\n       <path d=\"M 37.109375 75.984375 \nL 37.109375 68.5 \nL 28.515625 68.5 \nQ 23.6875 68.5 21.796875 66.546875 \nQ 19.921875 64.59375 19.921875 59.515625 \nL 19.921875 54.6875 \nL 34.71875 54.6875 \nL 34.71875 47.703125 \nL 19.921875 47.703125 \nL 19.921875 0 \nL 10.890625 0 \nL 10.890625 47.703125 \nL 2.296875 47.703125 \nL 2.296875 54.6875 \nL 10.890625 54.6875 \nL 10.890625 58.5 \nQ 10.890625 67.625 15.140625 71.796875 \nQ 19.390625 75.984375 28.609375 75.984375 \nz\n\" id=\"DejaVuSans-102\"/>\n      </defs>\n      <g style=\"fill:#444443;\" transform=\"translate(36.728125 172.424303)scale(0.1 -0.1)\">\n       <use xlink:href=\"#DejaVuSans-112\"/>\n       <use x=\"63.476562\" xlink:href=\"#DejaVuSans-97\"/>\n       <use x=\"124.755859\" xlink:href=\"#DejaVuSans-115\"/>\n       <use x=\"176.855469\" xlink:href=\"#DejaVuSans-115\"/>\n       <use x=\"228.955078\" xlink:href=\"#DejaVuSans-95\"/>\n       <use x=\"278.955078\" xlink:href=\"#DejaVuSans-100\"/>\n       <use x=\"342.431641\" xlink:href=\"#DejaVuSans-101\"/>\n       <use x=\"403.955078\" xlink:href=\"#DejaVuSans-102\"/>\n       <use x=\"439.160156\" xlink:href=\"#DejaVuSans-108\"/>\n       <use x=\"466.943359\" xlink:href=\"#DejaVuSans-101\"/>\n       <use x=\"528.466797\" xlink:href=\"#DejaVuSans-99\"/>\n       <use x=\"583.447266\" xlink:href=\"#DejaVuSans-116\"/>\n       <use x=\"622.65625\" xlink:href=\"#DejaVuSans-101\"/>\n       <use x=\"684.179688\" xlink:href=\"#DejaVuSans-100\"/>\n      </g>\n     </g>\n    </g>\n    <g id=\"ytick_14\">\n     <g id=\"line2d_16\">\n      <g>\n       <use style=\"stroke:#000000;stroke-width:0.8;\" x=\"118.496875\" xlink:href=\"#mce78f6557d\" y=\"182.066215\"/>\n      </g>\n     </g>\n     <g id=\"text_16\">\n      <!-- pass_switch -->\n      <defs>\n       <path d=\"M 4.203125 54.6875 \nL 13.1875 54.6875 \nL 24.421875 12.015625 \nL 35.59375 54.6875 \nL 46.1875 54.6875 \nL 57.421875 12.015625 \nL 68.609375 54.6875 \nL 77.59375 54.6875 \nL 63.28125 0 \nL 52.6875 0 \nL 40.921875 44.828125 \nL 29.109375 0 \nL 18.5 0 \nz\n\" id=\"DejaVuSans-119\"/>\n      </defs>\n      <g style=\"fill:#444443;\" transform=\"translate(51.679688 185.865433)scale(0.1 -0.1)\">\n       <use xlink:href=\"#DejaVuSans-112\"/>\n       <use x=\"63.476562\" xlink:href=\"#DejaVuSans-97\"/>\n       <use x=\"124.755859\" xlink:href=\"#DejaVuSans-115\"/>\n       <use x=\"176.855469\" xlink:href=\"#DejaVuSans-115\"/>\n       <use x=\"228.955078\" xlink:href=\"#DejaVuSans-95\"/>\n       <use x=\"278.955078\" xlink:href=\"#DejaVuSans-115\"/>\n       <use x=\"331.054688\" xlink:href=\"#DejaVuSans-119\"/>\n       <use x=\"412.841797\" xlink:href=\"#DejaVuSans-105\"/>\n       <use x=\"440.625\" xlink:href=\"#DejaVuSans-116\"/>\n       <use x=\"479.833984\" xlink:href=\"#DejaVuSans-99\"/>\n       <use x=\"534.814453\" xlink:href=\"#DejaVuSans-104\"/>\n      </g>\n     </g>\n    </g>\n    <g id=\"ytick_15\">\n     <g id=\"line2d_17\">\n      <g>\n       <use style=\"stroke:#000000;stroke-width:0.8;\" x=\"118.496875\" xlink:href=\"#mce78f6557d\" y=\"195.507345\"/>\n      </g>\n     </g>\n     <g id=\"text_17\">\n      <!-- x -->\n      <defs>\n       <path d=\"M 54.890625 54.6875 \nL 35.109375 28.078125 \nL 55.90625 0 \nL 45.3125 0 \nL 29.390625 21.484375 \nL 13.484375 0 \nL 2.875 0 \nL 24.125 28.609375 \nL 4.6875 54.6875 \nL 15.28125 54.6875 \nL 29.78125 35.203125 \nL 44.28125 54.6875 \nz\n\" id=\"DejaVuSans-120\"/>\n      </defs>\n      <g style=\"fill:#444443;\" transform=\"translate(105.578125 199.306563)scale(0.1 -0.1)\">\n       <use xlink:href=\"#DejaVuSans-120\"/>\n      </g>\n     </g>\n    </g>\n    <g id=\"ytick_16\">\n     <g id=\"line2d_18\">\n      <g>\n       <use style=\"stroke:#000000;stroke-width:0.8;\" x=\"118.496875\" xlink:href=\"#mce78f6557d\" y=\"208.948475\"/>\n      </g>\n     </g>\n     <g id=\"text_18\">\n      <!-- pass_cut_back -->\n      <defs>\n       <path d=\"M 9.078125 75.984375 \nL 18.109375 75.984375 \nL 18.109375 31.109375 \nL 44.921875 54.6875 \nL 56.390625 54.6875 \nL 27.390625 29.109375 \nL 57.625 0 \nL 45.90625 0 \nL 18.109375 26.703125 \nL 18.109375 0 \nL 9.078125 0 \nz\n\" id=\"DejaVuSans-107\"/>\n      </defs>\n      <g style=\"fill:#444443;\" transform=\"translate(39.079688 212.747693)scale(0.1 -0.1)\">\n       <use xlink:href=\"#DejaVuSans-112\"/>\n       <use x=\"63.476562\" xlink:href=\"#DejaVuSans-97\"/>\n       <use x=\"124.755859\" xlink:href=\"#DejaVuSans-115\"/>\n       <use x=\"176.855469\" xlink:href=\"#DejaVuSans-115\"/>\n       <use x=\"228.955078\" xlink:href=\"#DejaVuSans-95\"/>\n       <use x=\"278.955078\" xlink:href=\"#DejaVuSans-99\"/>\n       <use x=\"333.935547\" xlink:href=\"#DejaVuSans-117\"/>\n       <use x=\"397.314453\" xlink:href=\"#DejaVuSans-116\"/>\n       <use x=\"436.523438\" xlink:href=\"#DejaVuSans-95\"/>\n       <use x=\"486.523438\" xlink:href=\"#DejaVuSans-98\"/>\n       <use x=\"550\" xlink:href=\"#DejaVuSans-97\"/>\n       <use x=\"611.279297\" xlink:href=\"#DejaVuSans-99\"/>\n       <use x=\"666.259766\" xlink:href=\"#DejaVuSans-107\"/>\n      </g>\n     </g>\n    </g>\n   </g>\n   <g id=\"patch_19\">\n    <path d=\"M 118.496875 216.28 \nL 118.496875 -0 \n\" style=\"fill:none;stroke:#000000;stroke-linecap:square;stroke-linejoin:miter;stroke-width:0.3;\"/>\n   </g>\n   <g id=\"patch_20\">\n    <path d=\"M 255.834375 216.28 \nL 255.834375 -0 \n\" style=\"fill:none;stroke:#000000;stroke-linecap:square;stroke-linejoin:miter;stroke-width:0.3;\"/>\n   </g>\n   <g id=\"patch_21\">\n    <path d=\"M 118.496875 216.28 \nL 255.834375 216.28 \n\" style=\"fill:none;stroke:#000000;stroke-linecap:square;stroke-linejoin:miter;stroke-width:0.3;\"/>\n   </g>\n   <g id=\"patch_22\">\n    <path d=\"M 118.496875 -0 \nL 255.834375 -0 \n\" style=\"fill:none;stroke:#000000;stroke-linecap:square;stroke-linejoin:miter;stroke-width:0.3;\"/>\n   </g>\n  </g>\n </g>\n <defs>\n  <clipPath id=\"p1ba0aa3c89\">\n   <rect height=\"216.28\" width=\"137.3375\" x=\"118.496875\" y=\"-0\"/>\n  </clipPath>\n </defs>\n</svg>\n"
          },
          "metadata": {
            "tags": []
          },
          "execution_count": 16
        }
      ]
    },
    {
      "cell_type": "markdown",
      "metadata": {
        "id": "ZEl258tEoXxs"
      },
      "source": [
        "#Drop the least 3 important features and check Brier loss again."
      ]
    },
    {
      "cell_type": "code",
      "metadata": {
        "colab": {
          "base_uri": "https://localhost:8080/"
        },
        "id": "Jh3cMqTX7gQA",
        "outputId": "a67f4774-373b-4bf6-fc60-5e187dde633f"
      },
      "source": [
        "X2 = X.drop(['x','pass_cut_back','pass_switch'], axis=1)\n",
        "loss2 = get_loss(X=X2)\n",
        "print('Brier loss:', \"{0:.5f}\".format(loss2))"
      ],
      "execution_count": null,
      "outputs": [
        {
          "output_type": "stream",
          "text": [
            "Brier loss: 0.08298\n"
          ],
          "name": "stdout"
        }
      ]
    },
    {
      "cell_type": "markdown",
      "metadata": {
        "id": "oSgxlkyLoeiW"
      },
      "source": [
        "#Improvement !! Ok...now do a train-test split. Then use an XGBClassifier"
      ]
    },
    {
      "cell_type": "code",
      "metadata": {
        "id": "u1RdsarW7vw0"
      },
      "source": [
        "X_train, X_test, y_train, y_test = train_test_split(X2, y, test_size=0.20, shuffle=True, stratify=y, random_state=42)"
      ],
      "execution_count": null,
      "outputs": []
    },
    {
      "cell_type": "code",
      "metadata": {
        "colab": {
          "base_uri": "https://localhost:8080/"
        },
        "id": "zocnJhi18cHg",
        "outputId": "24a2765c-ce94-49af-8471-d19efb37be05"
      },
      "source": [
        "%%time\n",
        "\n",
        "xgb = XGBClassifier(objective='binary:logistic', random_state=42, n_jobs=-1)\n",
        "xgb.fit(X_train, y_train)\n",
        "scores = cross_val_score(xgb, X_train, y_train, cv=cv, scoring='brier_score_loss')\n",
        "print('Brier loss:', \"{0:.5f}\".format(np.mean(scores)*-1))"
      ],
      "execution_count": null,
      "outputs": [
        {
          "output_type": "stream",
          "text": [
            "Brier loss: 0.08581\n",
            "CPU times: user 21.1 s, sys: 19.4 ms, total: 21.1 s\n",
            "Wall time: 10.8 s\n"
          ],
          "name": "stdout"
        }
      ]
    },
    {
      "cell_type": "markdown",
      "metadata": {
        "id": "0JnTSYoLonK9"
      },
      "source": [
        "#Do a grid search for the best choice of parameters."
      ]
    },
    {
      "cell_type": "code",
      "metadata": {
        "colab": {
          "base_uri": "https://localhost:8080/"
        },
        "id": "CmwLcuYe8gOV",
        "outputId": "d0cfc947-8f80-414f-d182-f1e9d7a57b6a"
      },
      "source": [
        "%%time\n",
        "## Create the parameter grid\n",
        "# # Define function to print the results of the grid search\n",
        "def print_gs_results(gs, print_all=True):\n",
        "    if print_all == True:\n",
        "        print('Grid scores:')\n",
        "        means = gs.cv_results_['mean_test_score']*-1\n",
        "        stds = gs.cv_results_['std_test_score']\n",
        "        for mean, std, params in zip(means, stds, gs.cv_results_['params']):\n",
        "            print(\"%0.5f (+/-%0.05f) for %r\"\n",
        "                  % (mean, std * 2, params))\n",
        "        print()\n",
        "        print('Best:', \"{0:.5f}\".format(gs.best_score_*-1),'using %s' % gs.best_params_)\n",
        "    else:\n",
        "        print('Best:', \"{0:.5f}\".format(gs.best_score_*-1),'using %s' % gs.best_params_)\n",
        "    return\n",
        "\n",
        "from sklearn.model_selection import StratifiedKFold, train_test_split, cross_val_score, GridSearchCV, RandomizedSearchCV\n",
        "params = {\n",
        "    'learning_rate': [0.0001, 0.001, 0.01, 0.1, 0.2, 0.3],\n",
        "    'n_estimators': [int(x) for x in np.linspace(start=100, stop=500, num=5)],\n",
        "    'max_depth': [i for i in range(3, 5)],\n",
        "}\n",
        "\n",
        "## Create the randomised grid search model\n",
        "## See http://scikit-learn.sourceforge.net/stable/modules/generated/sklearn.grid_search.RandomizedSearchCV.html\n",
        "## \"n_iter = number of parameter settings that are sampled. n_iter trades off runtime vs quality of the solution\"\n",
        "rgs = RandomizedSearchCV(estimator=xgb, param_distributions=params, n_iter=20, cv=cv, random_state=42, n_jobs=-1,\n",
        "                         scoring='brier_score_loss', return_train_score=True)\n",
        "\n",
        "# Fit rgs\n",
        "rgs.fit(X_train, y_train)\n",
        "\n",
        "# Print results\n",
        "print_gs_results(gs=rgs, print_all=False)"
      ],
      "execution_count": null,
      "outputs": [
        {
          "output_type": "stream",
          "text": [
            "Best: 0.07851 using {'n_estimators': 500, 'max_depth': 3, 'learning_rate': 0.3}\n",
            "CPU times: user 23.2 s, sys: 314 ms, total: 23.5 s\n",
            "Wall time: 8min 37s\n"
          ],
          "name": "stdout"
        }
      ]
    },
    {
      "cell_type": "markdown",
      "metadata": {
        "id": "VN7V30FxotWK"
      },
      "source": [
        "#Some tests of the model"
      ]
    },
    {
      "cell_type": "code",
      "metadata": {
        "colab": {
          "base_uri": "https://localhost:8080/"
        },
        "id": "oxM6ZXH-9Rwa",
        "outputId": "0788ad21-ee53-416d-e217-fe4611b4c357"
      },
      "source": [
        "# Define a function to help fit models and print the results\n",
        "def print_results(xgb, X_train=X_train, y_train=y_train, X_test=X_test, y_test=y_test):\n",
        "    # Fit model\n",
        "    xgb.fit(X_train, y_train)\n",
        "    \n",
        "    # Get predicted probabilities\n",
        "    y_pred_proba_xgb = xgb.predict_proba(X_test)[:,1]\n",
        "\n",
        "    # Print results\n",
        "    print('Actual passes:', sum(y_test))\n",
        "    print('Predicted passes (xgb):', '{0:.2f}'.format(sum(y_pred_proba_xgb)))\n",
        "    print('Brier loss (xgb):', '{0:.5f}'.format(brier_score_loss(y_test, y_pred_proba_xgb)))\n",
        "    return\n",
        "\n",
        "# Evaluate best models on the hold-out set\n",
        "best_xgb = rgs.best_estimator_\n",
        "\n",
        "print_results(xgb=best_xgb)\n",
        "print_results(xgb=xgb)"
      ],
      "execution_count": null,
      "outputs": [
        {
          "output_type": "stream",
          "text": [
            "Actual passes: 9415.0\n",
            "Predicted passes (xgb): 9395.48\n",
            "Brier loss (xgb): 0.07578\n",
            "Actual passes: 9415.0\n",
            "Predicted passes (xgb): 9390.28\n",
            "Brier loss (xgb): 0.08363\n"
          ],
          "name": "stdout"
        }
      ]
    },
    {
      "cell_type": "code",
      "metadata": {
        "colab": {
          "base_uri": "https://localhost:8080/"
        },
        "id": "U-JLWqUE9rJk",
        "outputId": "08b7e9c4-898b-4542-8e3e-59e9ecc7af53"
      },
      "source": [
        "calibrated_xgb = CalibratedClassifierCV(rgs.best_estimator_, cv=cv, method='sigmoid')\n",
        "print_results(xgb=calibrated_xgb)"
      ],
      "execution_count": null,
      "outputs": [
        {
          "output_type": "stream",
          "text": [
            "Actual passes: 9415.0\n",
            "Predicted passes (xgb): 9386.61\n",
            "Brier loss (xgb): 0.07712\n"
          ],
          "name": "stdout"
        }
      ]
    },
    {
      "cell_type": "code",
      "metadata": {
        "id": "YRd9A8Fa9zvx"
      },
      "source": [
        "import pickle\n",
        "filename = 'final_model2.sav'\n",
        "pickle.dump(best_xgb, open(filename, 'wb'))"
      ],
      "execution_count": null,
      "outputs": []
    },
    {
      "cell_type": "code",
      "metadata": {
        "colab": {
          "base_uri": "https://localhost:8080/",
          "height": 296
        },
        "id": "JjZRcu5u92jZ",
        "outputId": "dcd96429-b4d0-4d7b-9f35-f9b69ef5ac85"
      },
      "source": [
        "from sklearn.metrics import plot_confusion_matrix \n",
        "plot_confusion_matrix(best_xgb, X_test, y_test,\n",
        "                                 cmap=plt.cm.Blues)"
      ],
      "execution_count": null,
      "outputs": [
        {
          "output_type": "execute_result",
          "data": {
            "text/plain": [
              "<sklearn.metrics._plot.confusion_matrix.ConfusionMatrixDisplay at 0x7f5fc2244050>"
            ]
          },
          "metadata": {
            "tags": []
          },
          "execution_count": 30
        },
        {
          "output_type": "display_data",
          "data": {
            "image/png": "[encoded data removed]",
            "text/plain": [
              "<Figure size 432x288 with 2 Axes>"
            ]
          },
          "metadata": {
            "tags": [],
            "needs_background": "light"
          }
        }
      ]
    },
    {
      "cell_type": "code",
      "metadata": {
        "colab": {
          "base_uri": "https://localhost:8080/",
          "height": 312
        },
        "id": "C8_YJKGz-AGE",
        "outputId": "a74377b1-3a94-4db3-b958-c2b2f06282d3"
      },
      "source": [
        "skplt.metrics.plot_precision_recall(y_test, calibrated_xgb.predict_proba(X_test))"
      ],
      "execution_count": null,
      "outputs": [
        {
          "output_type": "execute_result",
          "data": {
            "text/plain": [
              "<matplotlib.axes._subplots.AxesSubplot at 0x7f5fcc80af90>"
            ]
          },
          "metadata": {
            "tags": []
          },
          "execution_count": 31
        },
        {
          "output_type": "display_data",
          "data": {
            "image/png": "[encoded data removed]",
            "text/plain": [
              "<Figure size 432x288 with 1 Axes>"
            ]
          },
          "metadata": {
            "tags": [],
            "needs_background": "light"
          }
        }
      ]
    },
    {
      "cell_type": "code",
      "metadata": {
        "colab": {
          "base_uri": "https://localhost:8080/"
        },
        "id": "-VW-k9n2CdBp",
        "outputId": "8ad1abee-6f30-4f71-8361-68342e9e6bb2"
      },
      "source": [
        "len(X2),len(passes)"
      ],
      "execution_count": null,
      "outputs": [
        {
          "output_type": "execute_result",
          "data": {
            "text/plain": [
              "(58677, 58677)"
            ]
          },
          "metadata": {
            "tags": []
          },
          "execution_count": 32
        }
      ]
    },
    {
      "cell_type": "markdown",
      "metadata": {
        "id": "AVfrzshsoyJD"
      },
      "source": [
        "#Fit the model to the entire dataset"
      ]
    },
    {
      "cell_type": "code",
      "metadata": {
        "colab": {
          "base_uri": "https://localhost:8080/"
        },
        "id": "La9WO4xoCqiR",
        "outputId": "1bcc360d-5ce1-41d2-afbb-ee4dc64c1152"
      },
      "source": [
        "best_xgb.fit(X2, y)"
      ],
      "execution_count": null,
      "outputs": [
        {
          "output_type": "execute_result",
          "data": {
            "text/plain": [
              "XGBClassifier(base_score=0.5, booster='gbtree', colsample_bylevel=1,\n",
              "              colsample_bynode=1, colsample_bytree=1, gamma=0,\n",
              "              learning_rate=0.3, max_delta_step=0, max_depth=3,\n",
              "              min_child_weight=1, missing=None, n_estimators=500, n_jobs=-1,\n",
              "              nthread=None, objective='binary:logistic', random_state=42,\n",
              "              reg_alpha=0, reg_lambda=1, scale_pos_weight=1, seed=None,\n",
              "              silent=None, subsample=1, verbosity=1)"
            ]
          },
          "metadata": {
            "tags": []
          },
          "execution_count": 34
        }
      ]
    },
    {
      "cell_type": "code",
      "metadata": {
        "colab": {
          "base_uri": "https://localhost:8080/",
          "height": 609
        },
        "id": "QdrBSWLdC1y0",
        "outputId": "2947d459-cd57-4732-ff21-d0a97b906478"
      },
      "source": [
        "pass_final['xp'] = best_xgb.predict_proba(X2)[:,1]\n",
        "pass_final['name'] = passes['player_name']\n",
        "pass_final"
      ],
      "execution_count": null,
      "outputs": [
        {
          "output_type": "execute_result",
          "data": {
            "text/html": [
              "<div>\n",
              "<style scoped>\n",
              "    .dataframe tbody tr th:only-of-type {\n",
              "        vertical-align: middle;\n",
              "    }\n",
              "\n",
              "    .dataframe tbody tr th {\n",
              "        vertical-align: top;\n",
              "    }\n",
              "\n",
              "    .dataframe thead th {\n",
              "        text-align: right;\n",
              "    }\n",
              "</style>\n",
              "<table border=\"1\" class=\"dataframe\">\n",
              "  <thead>\n",
              "    <tr style=\"text-align: right;\">\n",
              "      <th></th>\n",
              "      <th>duration</th>\n",
              "      <th>angle</th>\n",
              "      <th>pass_body_part_name</th>\n",
              "      <th>x</th>\n",
              "      <th>y</th>\n",
              "      <th>endX</th>\n",
              "      <th>endY</th>\n",
              "      <th>pass_cross</th>\n",
              "      <th>pass_cut_back</th>\n",
              "      <th>pass_deflected</th>\n",
              "      <th>pass_height_name</th>\n",
              "      <th>distance</th>\n",
              "      <th>pass_switch</th>\n",
              "      <th>pass_through_ball</th>\n",
              "      <th>play_pattern_name</th>\n",
              "      <th>under_pressure</th>\n",
              "      <th>success</th>\n",
              "      <th>xp</th>\n",
              "      <th>name</th>\n",
              "    </tr>\n",
              "  </thead>\n",
              "  <tbody>\n",
              "    <tr>\n",
              "      <th>0</th>\n",
              "      <td>2.947</td>\n",
              "      <td>0.248963</td>\n",
              "      <td>Right Foot</td>\n",
              "      <td>38.0</td>\n",
              "      <td>42.0</td>\n",
              "      <td>97.0</td>\n",
              "      <td>57.0</td>\n",
              "      <td>0</td>\n",
              "      <td>0</td>\n",
              "      <td>0</td>\n",
              "      <td>High Pass</td>\n",
              "      <td>60.876935</td>\n",
              "      <td>0</td>\n",
              "      <td>0</td>\n",
              "      <td>From Kick Off</td>\n",
              "      <td>1</td>\n",
              "      <td>0.0</td>\n",
              "      <td>0.170571</td>\n",
              "      <td>Mathias Jattah-Njie Jørgensen</td>\n",
              "    </tr>\n",
              "    <tr>\n",
              "      <th>1</th>\n",
              "      <td>2.293</td>\n",
              "      <td>0.358771</td>\n",
              "      <td>Head</td>\n",
              "      <td>24.0</td>\n",
              "      <td>24.0</td>\n",
              "      <td>48.0</td>\n",
              "      <td>33.0</td>\n",
              "      <td>0</td>\n",
              "      <td>0</td>\n",
              "      <td>0</td>\n",
              "      <td>High Pass</td>\n",
              "      <td>25.632021</td>\n",
              "      <td>0</td>\n",
              "      <td>0</td>\n",
              "      <td>From Kick Off</td>\n",
              "      <td>0</td>\n",
              "      <td>0.0</td>\n",
              "      <td>0.140532</td>\n",
              "      <td>Domagoj Vida</td>\n",
              "    </tr>\n",
              "    <tr>\n",
              "      <th>2</th>\n",
              "      <td>1.079</td>\n",
              "      <td>3.141593</td>\n",
              "      <td>Head</td>\n",
              "      <td>73.0</td>\n",
              "      <td>48.0</td>\n",
              "      <td>68.0</td>\n",
              "      <td>48.0</td>\n",
              "      <td>0</td>\n",
              "      <td>0</td>\n",
              "      <td>0</td>\n",
              "      <td>High Pass</td>\n",
              "      <td>4.999990</td>\n",
              "      <td>0</td>\n",
              "      <td>0</td>\n",
              "      <td>From Kick Off</td>\n",
              "      <td>0</td>\n",
              "      <td>1.0</td>\n",
              "      <td>0.801036</td>\n",
              "      <td>Thomas Delaney</td>\n",
              "    </tr>\n",
              "    <tr>\n",
              "      <th>3</th>\n",
              "      <td>1.467</td>\n",
              "      <td>0.404891</td>\n",
              "      <td>None</td>\n",
              "      <td>75.0</td>\n",
              "      <td>50.0</td>\n",
              "      <td>82.0</td>\n",
              "      <td>53.0</td>\n",
              "      <td>0</td>\n",
              "      <td>0</td>\n",
              "      <td>0</td>\n",
              "      <td>High Pass</td>\n",
              "      <td>7.615782</td>\n",
              "      <td>0</td>\n",
              "      <td>0</td>\n",
              "      <td>From Kick Off</td>\n",
              "      <td>1</td>\n",
              "      <td>0.0</td>\n",
              "      <td>0.139065</td>\n",
              "      <td>Andreas Christensen</td>\n",
              "    </tr>\n",
              "    <tr>\n",
              "      <th>4</th>\n",
              "      <td>1.613</td>\n",
              "      <td>0.211093</td>\n",
              "      <td>Head</td>\n",
              "      <td>39.0</td>\n",
              "      <td>28.0</td>\n",
              "      <td>53.0</td>\n",
              "      <td>31.0</td>\n",
              "      <td>0</td>\n",
              "      <td>0</td>\n",
              "      <td>0</td>\n",
              "      <td>High Pass</td>\n",
              "      <td>14.317831</td>\n",
              "      <td>0</td>\n",
              "      <td>0</td>\n",
              "      <td>From Kick Off</td>\n",
              "      <td>0</td>\n",
              "      <td>0.0</td>\n",
              "      <td>0.354692</td>\n",
              "      <td>Marcelo Brozović</td>\n",
              "    </tr>\n",
              "    <tr>\n",
              "      <th>...</th>\n",
              "      <td>...</td>\n",
              "      <td>...</td>\n",
              "      <td>...</td>\n",
              "      <td>...</td>\n",
              "      <td>...</td>\n",
              "      <td>...</td>\n",
              "      <td>...</td>\n",
              "      <td>...</td>\n",
              "      <td>...</td>\n",
              "      <td>...</td>\n",
              "      <td>...</td>\n",
              "      <td>...</td>\n",
              "      <td>...</td>\n",
              "      <td>...</td>\n",
              "      <td>...</td>\n",
              "      <td>...</td>\n",
              "      <td>...</td>\n",
              "      <td>...</td>\n",
              "      <td>...</td>\n",
              "    </tr>\n",
              "    <tr>\n",
              "      <th>58672</th>\n",
              "      <td>3.790</td>\n",
              "      <td>0.221314</td>\n",
              "      <td>Left Foot</td>\n",
              "      <td>6.0</td>\n",
              "      <td>44.0</td>\n",
              "      <td>86.0</td>\n",
              "      <td>62.0</td>\n",
              "      <td>0</td>\n",
              "      <td>0</td>\n",
              "      <td>0</td>\n",
              "      <td>High Pass</td>\n",
              "      <td>82.000010</td>\n",
              "      <td>0</td>\n",
              "      <td>0</td>\n",
              "      <td>From Goal Kick</td>\n",
              "      <td>0</td>\n",
              "      <td>1.0</td>\n",
              "      <td>0.532106</td>\n",
              "      <td>Jordan Pickford</td>\n",
              "    </tr>\n",
              "    <tr>\n",
              "      <th>58673</th>\n",
              "      <td>0.733</td>\n",
              "      <td>0.708626</td>\n",
              "      <td>Head</td>\n",
              "      <td>87.0</td>\n",
              "      <td>60.0</td>\n",
              "      <td>94.0</td>\n",
              "      <td>66.0</td>\n",
              "      <td>0</td>\n",
              "      <td>0</td>\n",
              "      <td>0</td>\n",
              "      <td>High Pass</td>\n",
              "      <td>9.219552</td>\n",
              "      <td>0</td>\n",
              "      <td>0</td>\n",
              "      <td>From Goal Kick</td>\n",
              "      <td>0</td>\n",
              "      <td>0.0</td>\n",
              "      <td>0.620007</td>\n",
              "      <td>Harry Kane</td>\n",
              "    </tr>\n",
              "    <tr>\n",
              "      <th>58674</th>\n",
              "      <td>0.400</td>\n",
              "      <td>2.999695</td>\n",
              "      <td>Right Foot</td>\n",
              "      <td>20.0</td>\n",
              "      <td>5.0</td>\n",
              "      <td>13.0</td>\n",
              "      <td>4.0</td>\n",
              "      <td>0</td>\n",
              "      <td>0</td>\n",
              "      <td>0</td>\n",
              "      <td>Ground Pass</td>\n",
              "      <td>7.071058</td>\n",
              "      <td>0</td>\n",
              "      <td>0</td>\n",
              "      <td>From Throw In</td>\n",
              "      <td>1</td>\n",
              "      <td>1.0</td>\n",
              "      <td>0.894125</td>\n",
              "      <td>Mohamed Amine Ben Amor</td>\n",
              "    </tr>\n",
              "    <tr>\n",
              "      <th>58675</th>\n",
              "      <td>2.120</td>\n",
              "      <td>0.183111</td>\n",
              "      <td>Left Foot</td>\n",
              "      <td>13.0</td>\n",
              "      <td>4.0</td>\n",
              "      <td>40.0</td>\n",
              "      <td>9.0</td>\n",
              "      <td>0</td>\n",
              "      <td>0</td>\n",
              "      <td>0</td>\n",
              "      <td>High Pass</td>\n",
              "      <td>27.459070</td>\n",
              "      <td>0</td>\n",
              "      <td>0</td>\n",
              "      <td>From Throw In</td>\n",
              "      <td>0</td>\n",
              "      <td>0.0</td>\n",
              "      <td>0.174295</td>\n",
              "      <td>Ali Maâloul</td>\n",
              "    </tr>\n",
              "    <tr>\n",
              "      <th>58676</th>\n",
              "      <td>3.053</td>\n",
              "      <td>0.052583</td>\n",
              "      <td>Right Foot</td>\n",
              "      <td>82.0</td>\n",
              "      <td>72.0</td>\n",
              "      <td>120.0</td>\n",
              "      <td>74.0</td>\n",
              "      <td>0</td>\n",
              "      <td>0</td>\n",
              "      <td>0</td>\n",
              "      <td>High Pass</td>\n",
              "      <td>38.052605</td>\n",
              "      <td>0</td>\n",
              "      <td>0</td>\n",
              "      <td>From Throw In</td>\n",
              "      <td>0</td>\n",
              "      <td>0.0</td>\n",
              "      <td>0.072904</td>\n",
              "      <td>Kieran Trippier</td>\n",
              "    </tr>\n",
              "  </tbody>\n",
              "</table>\n",
              "<p>58677 rows × 19 columns</p>\n",
              "</div>"
            ],
            "text/plain": [
              "       duration     angle pass_body_part_name     x     y   endX  endY  \\\n",
              "0         2.947  0.248963          Right Foot  38.0  42.0   97.0  57.0   \n",
              "1         2.293  0.358771                Head  24.0  24.0   48.0  33.0   \n",
              "2         1.079  3.141593                Head  73.0  48.0   68.0  48.0   \n",
              "3         1.467  0.404891                None  75.0  50.0   82.0  53.0   \n",
              "4         1.613  0.211093                Head  39.0  28.0   53.0  31.0   \n",
              "...         ...       ...                 ...   ...   ...    ...   ...   \n",
              "58672     3.790  0.221314           Left Foot   6.0  44.0   86.0  62.0   \n",
              "58673     0.733  0.708626                Head  87.0  60.0   94.0  66.0   \n",
              "58674     0.400  2.999695          Right Foot  20.0   5.0   13.0   4.0   \n",
              "58675     2.120  0.183111           Left Foot  13.0   4.0   40.0   9.0   \n",
              "58676     3.053  0.052583          Right Foot  82.0  72.0  120.0  74.0   \n",
              "\n",
              "       pass_cross  pass_cut_back  pass_deflected pass_height_name   distance  \\\n",
              "0               0              0               0        High Pass  60.876935   \n",
              "1               0              0               0        High Pass  25.632021   \n",
              "2               0              0               0        High Pass   4.999990   \n",
              "3               0              0               0        High Pass   7.615782   \n",
              "4               0              0               0        High Pass  14.317831   \n",
              "...           ...            ...             ...              ...        ...   \n",
              "58672           0              0               0        High Pass  82.000010   \n",
              "58673           0              0               0        High Pass   9.219552   \n",
              "58674           0              0               0      Ground Pass   7.071058   \n",
              "58675           0              0               0        High Pass  27.459070   \n",
              "58676           0              0               0        High Pass  38.052605   \n",
              "\n",
              "       pass_switch  pass_through_ball play_pattern_name  under_pressure  \\\n",
              "0                0                  0     From Kick Off               1   \n",
              "1                0                  0     From Kick Off               0   \n",
              "2                0                  0     From Kick Off               0   \n",
              "3                0                  0     From Kick Off               1   \n",
              "4                0                  0     From Kick Off               0   \n",
              "...            ...                ...               ...             ...   \n",
              "58672            0                  0    From Goal Kick               0   \n",
              "58673            0                  0    From Goal Kick               0   \n",
              "58674            0                  0     From Throw In               1   \n",
              "58675            0                  0     From Throw In               0   \n",
              "58676            0                  0     From Throw In               0   \n",
              "\n",
              "       success        xp                           name  \n",
              "0          0.0  0.170571  Mathias Jattah-Njie Jørgensen  \n",
              "1          0.0  0.140532                   Domagoj Vida  \n",
              "2          1.0  0.801036                 Thomas Delaney  \n",
              "3          0.0  0.139065            Andreas Christensen  \n",
              "4          0.0  0.354692               Marcelo Brozović  \n",
              "...        ...       ...                            ...  \n",
              "58672      1.0  0.532106                Jordan Pickford  \n",
              "58673      0.0  0.620007                     Harry Kane  \n",
              "58674      1.0  0.894125         Mohamed Amine Ben Amor  \n",
              "58675      0.0  0.174295                    Ali Maâloul  \n",
              "58676      0.0  0.072904                Kieran Trippier  \n",
              "\n",
              "[58677 rows x 19 columns]"
            ]
          },
          "metadata": {
            "tags": []
          },
          "execution_count": 37
        }
      ]
    },
    {
      "cell_type": "markdown",
      "metadata": {
        "id": "-6gKRHHxo3O4"
      },
      "source": [
        "#Groupby to get actual and expected pass success"
      ]
    },
    {
      "cell_type": "code",
      "metadata": {
        "colab": {
          "base_uri": "https://localhost:8080/",
          "height": 419
        },
        "id": "fpyUfethDGHl",
        "outputId": "c3969bb6-a232-4512-d1ed-6caf39af817e"
      },
      "source": [
        "groupedstats = pass_final.groupby('name').agg({'duration':'count','success':'sum','xp':'sum'}).reset_index()\n",
        "groupedstats.rename(columns={'duration':'Open Play Passes',\n",
        "                             'success':'Successful Open Play Passes',\n",
        "                             'xp':'Expected Pass Success'},inplace=True)\n",
        "groupedstats"
      ],
      "execution_count": null,
      "outputs": [
        {
          "output_type": "execute_result",
          "data": {
            "text/html": [
              "<div>\n",
              "<style scoped>\n",
              "    .dataframe tbody tr th:only-of-type {\n",
              "        vertical-align: middle;\n",
              "    }\n",
              "\n",
              "    .dataframe tbody tr th {\n",
              "        vertical-align: top;\n",
              "    }\n",
              "\n",
              "    .dataframe thead th {\n",
              "        text-align: right;\n",
              "    }\n",
              "</style>\n",
              "<table border=\"1\" class=\"dataframe\">\n",
              "  <thead>\n",
              "    <tr style=\"text-align: right;\">\n",
              "      <th></th>\n",
              "      <th>name</th>\n",
              "      <th>Open Play Passes</th>\n",
              "      <th>Successful Open Play Passes</th>\n",
              "      <th>Expected Pass Success</th>\n",
              "    </tr>\n",
              "  </thead>\n",
              "  <tbody>\n",
              "    <tr>\n",
              "      <th>0</th>\n",
              "      <td>Aaron Mooy</td>\n",
              "      <td>184</td>\n",
              "      <td>155.0</td>\n",
              "      <td>160.993301</td>\n",
              "    </tr>\n",
              "    <tr>\n",
              "      <th>1</th>\n",
              "      <td>Abdalla Mahmoud El Said Bekhit</td>\n",
              "      <td>138</td>\n",
              "      <td>105.0</td>\n",
              "      <td>109.137688</td>\n",
              "    </tr>\n",
              "    <tr>\n",
              "      <th>2</th>\n",
              "      <td>Abdiel Arroyo Molinar</td>\n",
              "      <td>5</td>\n",
              "      <td>4.0</td>\n",
              "      <td>3.102790</td>\n",
              "    </tr>\n",
              "    <tr>\n",
              "      <th>3</th>\n",
              "      <td>Abdullah Ibrahim Al Maiouf</td>\n",
              "      <td>29</td>\n",
              "      <td>13.0</td>\n",
              "      <td>16.288088</td>\n",
              "    </tr>\n",
              "    <tr>\n",
              "      <th>4</th>\n",
              "      <td>Abdullah Ibrahim Otayf</td>\n",
              "      <td>252</td>\n",
              "      <td>228.0</td>\n",
              "      <td>224.766037</td>\n",
              "    </tr>\n",
              "    <tr>\n",
              "      <th>...</th>\n",
              "      <td>...</td>\n",
              "      <td>...</td>\n",
              "      <td>...</td>\n",
              "      <td>...</td>\n",
              "    </tr>\n",
              "    <tr>\n",
              "      <th>595</th>\n",
              "      <td>İlkay Gündoğan</td>\n",
              "      <td>51</td>\n",
              "      <td>47.0</td>\n",
              "      <td>46.432709</td>\n",
              "    </tr>\n",
              "    <tr>\n",
              "      <th>596</th>\n",
              "      <td>Łukasz Fabiański</td>\n",
              "      <td>23</td>\n",
              "      <td>16.0</td>\n",
              "      <td>17.069645</td>\n",
              "    </tr>\n",
              "    <tr>\n",
              "      <th>597</th>\n",
              "      <td>Łukasz Piszczek</td>\n",
              "      <td>94</td>\n",
              "      <td>63.0</td>\n",
              "      <td>68.951218</td>\n",
              "    </tr>\n",
              "    <tr>\n",
              "      <th>598</th>\n",
              "      <td>Łukasz Teodorczyk</td>\n",
              "      <td>8</td>\n",
              "      <td>6.0</td>\n",
              "      <td>5.394203</td>\n",
              "    </tr>\n",
              "    <tr>\n",
              "      <th>599</th>\n",
              "      <td>Šime Vrsaljko</td>\n",
              "      <td>320</td>\n",
              "      <td>240.0</td>\n",
              "      <td>234.602158</td>\n",
              "    </tr>\n",
              "  </tbody>\n",
              "</table>\n",
              "<p>600 rows × 4 columns</p>\n",
              "</div>"
            ],
            "text/plain": [
              "                               name  Open Play Passes  \\\n",
              "0                        Aaron Mooy               184   \n",
              "1    Abdalla Mahmoud El Said Bekhit               138   \n",
              "2             Abdiel Arroyo Molinar                 5   \n",
              "3        Abdullah Ibrahim Al Maiouf                29   \n",
              "4            Abdullah Ibrahim Otayf               252   \n",
              "..                              ...               ...   \n",
              "595                  İlkay Gündoğan                51   \n",
              "596                Łukasz Fabiański                23   \n",
              "597                 Łukasz Piszczek                94   \n",
              "598               Łukasz Teodorczyk                 8   \n",
              "599                   Šime Vrsaljko               320   \n",
              "\n",
              "     Successful Open Play Passes  Expected Pass Success  \n",
              "0                          155.0             160.993301  \n",
              "1                          105.0             109.137688  \n",
              "2                            4.0               3.102790  \n",
              "3                           13.0              16.288088  \n",
              "4                          228.0             224.766037  \n",
              "..                           ...                    ...  \n",
              "595                         47.0              46.432709  \n",
              "596                         16.0              17.069645  \n",
              "597                         63.0              68.951218  \n",
              "598                          6.0               5.394203  \n",
              "599                        240.0             234.602158  \n",
              "\n",
              "[600 rows x 4 columns]"
            ]
          },
          "metadata": {
            "tags": []
          },
          "execution_count": 40
        }
      ]
    },
    {
      "cell_type": "markdown",
      "metadata": {
        "id": "7R29PAXDo_Oz"
      },
      "source": [
        "#Define 'Pass Completed Above Expected', then mount google drive and save."
      ]
    },
    {
      "cell_type": "code",
      "metadata": {
        "id": "xh91Lk4kDdpA"
      },
      "source": [
        "groupedstats['Pass Completed Above Expected'] = groupedstats['Successful Open Play Passes']/groupedstats['Expected Pass Success']"
      ],
      "execution_count": null,
      "outputs": []
    },
    {
      "cell_type": "code",
      "metadata": {
        "colab": {
          "base_uri": "https://localhost:8080/",
          "height": 419
        },
        "id": "RXiSGseWEOk-",
        "outputId": "b98f11be-5f4f-43a0-94e1-38feb08a9250"
      },
      "source": [
        "groupedstats"
      ],
      "execution_count": null,
      "outputs": [
        {
          "output_type": "execute_result",
          "data": {
            "text/html": [
              "<div>\n",
              "<style scoped>\n",
              "    .dataframe tbody tr th:only-of-type {\n",
              "        vertical-align: middle;\n",
              "    }\n",
              "\n",
              "    .dataframe tbody tr th {\n",
              "        vertical-align: top;\n",
              "    }\n",
              "\n",
              "    .dataframe thead th {\n",
              "        text-align: right;\n",
              "    }\n",
              "</style>\n",
              "<table border=\"1\" class=\"dataframe\">\n",
              "  <thead>\n",
              "    <tr style=\"text-align: right;\">\n",
              "      <th></th>\n",
              "      <th>name</th>\n",
              "      <th>Open Play Passes</th>\n",
              "      <th>Successful Open Play Passes</th>\n",
              "      <th>Expected Pass Success</th>\n",
              "      <th>Pass Completed Above Expected</th>\n",
              "    </tr>\n",
              "  </thead>\n",
              "  <tbody>\n",
              "    <tr>\n",
              "      <th>0</th>\n",
              "      <td>Aaron Mooy</td>\n",
              "      <td>184</td>\n",
              "      <td>155.0</td>\n",
              "      <td>160.993301</td>\n",
              "      <td>0.962773</td>\n",
              "    </tr>\n",
              "    <tr>\n",
              "      <th>1</th>\n",
              "      <td>Abdalla Mahmoud El Said Bekhit</td>\n",
              "      <td>138</td>\n",
              "      <td>105.0</td>\n",
              "      <td>109.137688</td>\n",
              "      <td>0.962087</td>\n",
              "    </tr>\n",
              "    <tr>\n",
              "      <th>2</th>\n",
              "      <td>Abdiel Arroyo Molinar</td>\n",
              "      <td>5</td>\n",
              "      <td>4.0</td>\n",
              "      <td>3.102790</td>\n",
              "      <td>1.289162</td>\n",
              "    </tr>\n",
              "    <tr>\n",
              "      <th>3</th>\n",
              "      <td>Abdullah Ibrahim Al Maiouf</td>\n",
              "      <td>29</td>\n",
              "      <td>13.0</td>\n",
              "      <td>16.288088</td>\n",
              "      <td>0.798129</td>\n",
              "    </tr>\n",
              "    <tr>\n",
              "      <th>4</th>\n",
              "      <td>Abdullah Ibrahim Otayf</td>\n",
              "      <td>252</td>\n",
              "      <td>228.0</td>\n",
              "      <td>224.766037</td>\n",
              "      <td>1.014388</td>\n",
              "    </tr>\n",
              "    <tr>\n",
              "      <th>...</th>\n",
              "      <td>...</td>\n",
              "      <td>...</td>\n",
              "      <td>...</td>\n",
              "      <td>...</td>\n",
              "      <td>...</td>\n",
              "    </tr>\n",
              "    <tr>\n",
              "      <th>595</th>\n",
              "      <td>İlkay Gündoğan</td>\n",
              "      <td>51</td>\n",
              "      <td>47.0</td>\n",
              "      <td>46.432709</td>\n",
              "      <td>1.012217</td>\n",
              "    </tr>\n",
              "    <tr>\n",
              "      <th>596</th>\n",
              "      <td>Łukasz Fabiański</td>\n",
              "      <td>23</td>\n",
              "      <td>16.0</td>\n",
              "      <td>17.069645</td>\n",
              "      <td>0.937336</td>\n",
              "    </tr>\n",
              "    <tr>\n",
              "      <th>597</th>\n",
              "      <td>Łukasz Piszczek</td>\n",
              "      <td>94</td>\n",
              "      <td>63.0</td>\n",
              "      <td>68.951218</td>\n",
              "      <td>0.913689</td>\n",
              "    </tr>\n",
              "    <tr>\n",
              "      <th>598</th>\n",
              "      <td>Łukasz Teodorczyk</td>\n",
              "      <td>8</td>\n",
              "      <td>6.0</td>\n",
              "      <td>5.394203</td>\n",
              "      <td>1.112305</td>\n",
              "    </tr>\n",
              "    <tr>\n",
              "      <th>599</th>\n",
              "      <td>Šime Vrsaljko</td>\n",
              "      <td>320</td>\n",
              "      <td>240.0</td>\n",
              "      <td>234.602158</td>\n",
              "      <td>1.023008</td>\n",
              "    </tr>\n",
              "  </tbody>\n",
              "</table>\n",
              "<p>600 rows × 5 columns</p>\n",
              "</div>"
            ],
            "text/plain": [
              "                               name  Open Play Passes  \\\n",
              "0                        Aaron Mooy               184   \n",
              "1    Abdalla Mahmoud El Said Bekhit               138   \n",
              "2             Abdiel Arroyo Molinar                 5   \n",
              "3        Abdullah Ibrahim Al Maiouf                29   \n",
              "4            Abdullah Ibrahim Otayf               252   \n",
              "..                              ...               ...   \n",
              "595                  İlkay Gündoğan                51   \n",
              "596                Łukasz Fabiański                23   \n",
              "597                 Łukasz Piszczek                94   \n",
              "598               Łukasz Teodorczyk                 8   \n",
              "599                   Šime Vrsaljko               320   \n",
              "\n",
              "     Successful Open Play Passes  Expected Pass Success  \\\n",
              "0                          155.0             160.993301   \n",
              "1                          105.0             109.137688   \n",
              "2                            4.0               3.102790   \n",
              "3                           13.0              16.288088   \n",
              "4                          228.0             224.766037   \n",
              "..                           ...                    ...   \n",
              "595                         47.0              46.432709   \n",
              "596                         16.0              17.069645   \n",
              "597                         63.0              68.951218   \n",
              "598                          6.0               5.394203   \n",
              "599                        240.0             234.602158   \n",
              "\n",
              "     Pass Completed Above Expected  \n",
              "0                         0.962773  \n",
              "1                         0.962087  \n",
              "2                         1.289162  \n",
              "3                         0.798129  \n",
              "4                         1.014388  \n",
              "..                             ...  \n",
              "595                       1.012217  \n",
              "596                       0.937336  \n",
              "597                       0.913689  \n",
              "598                       1.112305  \n",
              "599                       1.023008  \n",
              "\n",
              "[600 rows x 5 columns]"
            ]
          },
          "metadata": {
            "tags": []
          },
          "execution_count": 42
        }
      ]
    },
    {
      "cell_type": "code",
      "metadata": {
        "colab": {
          "base_uri": "https://localhost:8080/"
        },
        "id": "jUHRqn6WEPI2",
        "outputId": "8b7a1428-b4cf-487e-fff1-c5197d784070"
      },
      "source": [
        "from google.colab import drive\n",
        "drive.mount('/content/drive')"
      ],
      "execution_count": null,
      "outputs": [
        {
          "output_type": "stream",
          "text": [
            "Mounted at /content/drive\n"
          ],
          "name": "stdout"
        }
      ]
    },
    {
      "cell_type": "code",
      "metadata": {
        "id": "5m7uUsMOEahA"
      },
      "source": [
        "groupedstats.to_parquet('/content/drive/MyDrive/Norwich/xP.parquet',index=False)"
      ],
      "execution_count": null,
      "outputs": []
    },
    {
      "cell_type": "code",
      "metadata": {
        "id": "3aM689IZEmkI"
      },
      "source": [
        ""
      ],
      "execution_count": null,
      "outputs": []
    }
  ]
}