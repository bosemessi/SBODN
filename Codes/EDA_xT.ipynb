{
  "nbformat": 4,
  "nbformat_minor": 0,
  "metadata": {
    "colab": {
      "name": "EDA_xT.ipynb",
      "provenance": [],
      "collapsed_sections": []
    },
    "kernelspec": {
      "name": "python3",
      "display_name": "Python 3"
    },
    "language_info": {
      "name": "python"
    }
  },
  "cells": [
    {
      "cell_type": "markdown",
      "metadata": {
        "id": "3Th6C-PcYJNV"
      },
      "source": [
        "#Imports"
      ]
    },
    {
      "cell_type": "code",
      "metadata": {
        "colab": {
          "base_uri": "https://localhost:8080/"
        },
        "id": "VPgNRTtlYDBm",
        "cellView": "form",
        "outputId": "b751328f-cb1d-4ba9-8aa5-73a05c3e9e41"
      },
      "source": [
        "#@title\n",
        "import sys\n",
        "import pandas as pd\n",
        "pd.options.mode.chained_assignment = None\n",
        "pd.set_option('display.max_columns', None)\n",
        "import numpy as np\n",
        "!git clone https://github.com/bosemessi/StatsbombOpenData --q\n",
        "!pip install mplsoccer --q\n",
        "from mplsoccer import Pitch, VerticalPitch\n",
        "import ipywidgets as widgets\n",
        "from ipywidgets import interact,interactive\n",
        "import matplotlib.pyplot as plt\n",
        "import matplotlib as mpl \n",
        "import matplotlib.font_manager as fm\n",
        "!pip install highlight-text --q\n",
        "from highlight_text import ax_text, fig_text\n",
        "!pip install adjustText --q\n",
        "from adjustText import adjust_text\n",
        "!pip install gdown --quiet\n",
        "import gdown\n",
        "import matplotlib.patheffects as path_effects\n",
        "from matplotlib.transforms import Affine2D\n",
        "import mpl_toolkits.axisartist.floating_axes as floating_axes\n",
        "import mpl_toolkits.axisartist.angle_helper as angle_helper\n",
        "from matplotlib.projections import PolarAxes\n",
        "from mpl_toolkits.axisartist.grid_finder import (FixedLocator, MaxNLocator,\n",
        "                                                 DictFormatter)\n",
        "import matplotlib.patches as patches\n",
        "from PIL import Image\n",
        "from io import StringIO, BytesIO\n",
        "from tqdm import tqdm\n",
        "import requests \n",
        "import warnings\n",
        "warnings.filterwarnings('ignore')\n",
        "from matplotlib.colors import LinearSegmentedColormap\n",
        "from scipy.interpolate import RegularGridInterpolator"
      ],
      "execution_count": null,
      "outputs": [
        {
          "output_type": "stream",
          "text": [
            "fatal: destination path 'StatsbombOpenData' already exists and is not an empty directory.\n"
          ],
          "name": "stdout"
        }
      ]
    },
    {
      "cell_type": "markdown",
      "metadata": {
        "id": "b81E0q_vjm_R"
      },
      "source": [
        "#Add xT"
      ]
    },
    {
      "cell_type": "code",
      "metadata": {
        "colab": {
          "base_uri": "https://localhost:8080/"
        },
        "id": "sAn-l4qyYawn",
        "outputId": "00de7da6-6e45-45c1-f1a3-1e78f99352a0"
      },
      "source": [
        "#@title\n",
        "%%time\n",
        "df = pd.read_parquet('/content/StatsbombOpenData/WC2018.parquet').reset_index(drop=True)\n",
        "Df = df[df.location.notna()].reset_index(drop=True)\n",
        "touchbasedactions = ['Pass', 'Carry', 'Dribble','Foul Won', 'Interception', 'Duel','50/50',\n",
        "       'Ball Recovery', 'Dispossessed', 'Block', 'Clearance','Miscontrol', 'Goal Keeper', 'Shot']\n",
        "Df['isTouch'] = np.where(Df.type_name.isin(touchbasedactions),1,0)\n",
        "Df = Df[(Df.isTouch==1)].reset_index(drop=True)\n",
        "Df[['x','y']] = np.array(list(Df.location))\n",
        "Df['endloc'] = np.where(Df.type_name=='Pass',Df.pass_end_location,\n",
        "                        np.where(Df.type_name=='Carry',Df.carry_end_location,Df.location))\n",
        "Df[['endX','endY']] = np.array(list(Df.endloc))\n",
        "\n",
        "binx = [10*i for i in range(13)]\n",
        "biny = [10*i for i in range(9)]\n",
        "for cols in ['x','endX']:\n",
        "    s = pd.cut(Df[cols], bins=binx, include_lowest=True)\n",
        "    Df['zone_'+cols] = pd.Series(data=pd.IntervalIndex(s).right, index = s.index)/10\n",
        "for cols in ['y','endY']:\n",
        "    s = pd.cut(Df[cols], bins=biny, include_lowest=True)\n",
        "    Df['zone_'+cols] = pd.Series(data=pd.IntervalIndex(s).right, index = s.index)/10\n",
        "Df['zone_start'] = Df['zone_x'] + (Df['zone_y']-1)*12\n",
        "Df['zone_end'] = Df['zone_endX'] + (Df['zone_endY']-1)*12\n",
        "\n",
        "xtd = np.array([[0.00638303, 0.00779616, 0.00844854, 0.00977659, 0.01126267,\n",
        "        0.01248344, 0.01473596, 0.0174506 , 0.02122129, 0.02756312,\n",
        "        0.03485072, 0.0379259 ],\n",
        "       [0.00750072, 0.00878589, 0.00942382, 0.0105949 , 0.01214719,\n",
        "        0.0138454 , 0.01611813, 0.01870347, 0.02401521, 0.02953272,\n",
        "        0.04066992, 0.04647721],\n",
        "       [0.0088799 , 0.00977745, 0.01001304, 0.01110462, 0.01269174,\n",
        "        0.01429128, 0.01685596, 0.01935132, 0.0241224 , 0.02855202,\n",
        "        0.05491138, 0.06442595],\n",
        "       [0.00941056, 0.01082722, 0.01016549, 0.01132376, 0.01262646,\n",
        "        0.01484598, 0.01689528, 0.0199707 , 0.02385149, 0.03511326,\n",
        "        0.10805102, 0.25745362],\n",
        "       [0.00941056, 0.01082722, 0.01016549, 0.01132376, 0.01262646,\n",
        "        0.01484598, 0.01689528, 0.0199707 , 0.02385149, 0.03511326,\n",
        "        0.10805102, 0.25745362],\n",
        "       [0.0088799 , 0.00977745, 0.01001304, 0.01110462, 0.01269174,\n",
        "        0.01429128, 0.01685596, 0.01935132, 0.0241224 , 0.02855202,\n",
        "        0.05491138, 0.06442595],\n",
        "       [0.00750072, 0.00878589, 0.00942382, 0.0105949 , 0.01214719,\n",
        "        0.0138454 , 0.01611813, 0.01870347, 0.02401521, 0.02953272,\n",
        "        0.04066992, 0.04647721],\n",
        "       [0.00638303, 0.00779616, 0.00844854, 0.00977659, 0.01126267,\n",
        "        0.01248344, 0.01473596, 0.0174506 , 0.02122129, 0.02756312,\n",
        "        0.03485072, 0.0379259 ]]).flatten()\n",
        "startXTDF = pd.DataFrame(data=xtd,columns=['xT_start'])\n",
        "startXTDF['zone_start'] = [i+1 for i in range(96)]\n",
        "endXTDF = pd.DataFrame(data=xtd,columns=['xT_end'])\n",
        "endXTDF['zone_end'] = [i+1 for i in range(96)]\n",
        "\n",
        "Df = Df.merge(startXTDF,on=['zone_start'],how='left')\n",
        "Df = Df.merge(endXTDF,on=['zone_end'],how='left')\n",
        "Df['xT'] = Df['xT_end'] - Df['xT_start']"
      ],
      "execution_count": null,
      "outputs": [
        {
          "output_type": "stream",
          "text": [
            "CPU times: user 11 s, sys: 697 ms, total: 11.7 s\n",
            "Wall time: 11.2 s\n"
          ],
          "name": "stdout"
        }
      ]
    },
    {
      "cell_type": "markdown",
      "metadata": {
        "id": "rBDjtXUgpdWP"
      },
      "source": [
        "#Create xT Facilitated, then save"
      ]
    },
    {
      "cell_type": "code",
      "metadata": {
        "id": "0uG7jGwajmZr"
      },
      "source": [
        "Df['xT'] = np.where(Df.type_name.isin(['Pass','Carry']) & Df.pass_outcome_name.isna(),Df.xT,0)\n",
        "Df['xT Facilitated'] = np.where(Df.team_name==Df.team_name.shift(-1),Df.xT.shift(-1).fillna(value=0),0)\n",
        "groupedstats = Df.groupby('player_name').agg({'xT':'sum','xT Facilitated':'sum'}).reset_index()\n",
        "groupedstats.rename(columns={\"player_name\": \"name\"}, errors=\"raise\",inplace=True)"
      ],
      "execution_count": null,
      "outputs": []
    },
    {
      "cell_type": "code",
      "metadata": {
        "colab": {
          "base_uri": "https://localhost:8080/"
        },
        "id": "ioPOWu8Yj_qG",
        "outputId": "52b06d5b-982a-49c7-e94f-2989a8ccc89c"
      },
      "source": [
        "from google.colab import drive\n",
        "drive.mount('/content/drive')"
      ],
      "execution_count": null,
      "outputs": [
        {
          "output_type": "stream",
          "text": [
            "Mounted at /content/drive\n"
          ],
          "name": "stdout"
        }
      ]
    },
    {
      "cell_type": "code",
      "metadata": {
        "id": "GXKlmV_JkETC"
      },
      "source": [
        "groupedstats.to_parquet('/content/drive/MyDrive/Norwich/xT.parquet',index=False)"
      ],
      "execution_count": null,
      "outputs": []
    }
  ]
}