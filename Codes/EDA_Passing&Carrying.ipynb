{
  "nbformat": 4,
  "nbformat_minor": 0,
  "metadata": {
    "colab": {
      "name": "EDA_Passing&Carrying.ipynb",
      "provenance": [],
      "collapsed_sections": []
    },
    "kernelspec": {
      "name": "python3",
      "display_name": "Python 3"
    },
    "language_info": {
      "name": "python"
    }
  },
  "cells": [
    {
      "cell_type": "markdown",
      "metadata": {
        "id": "1ulIqBhPWvOo"
      },
      "source": [
        "#Imports"
      ]
    },
    {
      "cell_type": "code",
      "metadata": {
        "colab": {
          "base_uri": "https://localhost:8080/"
        },
        "id": "AYND7irRWo2p",
        "cellView": "form",
        "outputId": "9fab8bae-a9c0-49dd-fd6a-2fd41197e846"
      },
      "source": [
        "#@title\n",
        "import sys\n",
        "import pandas as pd\n",
        "pd.options.mode.chained_assignment = None\n",
        "pd.set_option('display.max_columns', None)\n",
        "import numpy as np\n",
        "!git clone https://github.com/bosemessi/StatsbombOpenData --q\n",
        "!pip install mplsoccer --q\n",
        "from mplsoccer import Pitch, VerticalPitch\n",
        "import ipywidgets as widgets\n",
        "from ipywidgets import interact,interactive\n",
        "import matplotlib.pyplot as plt\n",
        "import matplotlib as mpl \n",
        "import matplotlib.font_manager as fm\n",
        "!pip install highlight-text --q\n",
        "from highlight_text import ax_text, fig_text\n",
        "!pip install adjustText --q\n",
        "from adjustText import adjust_text\n",
        "!pip install gdown --quiet\n",
        "import gdown\n",
        "import matplotlib.patheffects as path_effects\n",
        "from matplotlib.transforms import Affine2D\n",
        "import mpl_toolkits.axisartist.floating_axes as floating_axes\n",
        "import mpl_toolkits.axisartist.angle_helper as angle_helper\n",
        "from matplotlib.projections import PolarAxes\n",
        "from mpl_toolkits.axisartist.grid_finder import (FixedLocator, MaxNLocator,\n",
        "                                                 DictFormatter)\n",
        "import matplotlib.patches as patches\n",
        "from PIL import Image\n",
        "from io import StringIO, BytesIO\n",
        "from tqdm import tqdm\n",
        "import requests \n",
        "import warnings\n",
        "warnings.filterwarnings('ignore')\n",
        "from matplotlib.colors import LinearSegmentedColormap\n",
        "from scipy.interpolate import RegularGridInterpolator"
      ],
      "execution_count": null,
      "outputs": [
        {
          "output_type": "stream",
          "text": [
            "\u001b[?25l\r\u001b[K     |█████▊                          | 10kB 16.0MB/s eta 0:00:01\r\u001b[K     |███████████▍                    | 20kB 20.4MB/s eta 0:00:01\r\u001b[K     |█████████████████               | 30kB 22.2MB/s eta 0:00:01\r\u001b[K     |██████████████████████▊         | 40kB 23.9MB/s eta 0:00:01\r\u001b[K     |████████████████████████████▍   | 51kB 25.8MB/s eta 0:00:01\r\u001b[K     |████████████████████████████████| 61kB 6.7MB/s \n",
            "\u001b[?25h  Building wheel for mplsoccer (setup.py) ... \u001b[?25l\u001b[?25hdone\n",
            "  Building wheel for adjustText (setup.py) ... \u001b[?25l\u001b[?25hdone\n"
          ],
          "name": "stdout"
        }
      ]
    },
    {
      "cell_type": "markdown",
      "metadata": {
        "id": "U12WS2aQnI6E"
      },
      "source": [
        "#Read and pre-process data"
      ]
    },
    {
      "cell_type": "code",
      "metadata": {
        "id": "Hfl1vOtjW1CJ",
        "cellView": "form"
      },
      "source": [
        "#@title\n",
        "\n",
        "df = pd.read_parquet('/content/StatsbombOpenData/WC2018.parquet').reset_index(drop=True)\n",
        "Df = df[df.location.notna()].reset_index(drop=True)\n",
        "Df[['x','y']] = np.array(list(Df.location))\n",
        "Df['endloc'] = np.where(Df.type_name=='Pass',Df.pass_end_location,\n",
        "                        np.where(Df.type_name=='Carry',Df.carry_end_location,Df.location))\n",
        "Df[['endX','endY']] = np.array(list(Df.endloc))\n",
        "\n",
        "Df['dist1'] = np.sqrt((Df.x - 120)**2 + (Df.y - 40)**2)\n",
        "Df['dist2'] = np.sqrt((Df.endX - 120)**2 + (Df.endY - 40)**2)\n",
        "Df['diffdist'] = Df['dist1'] - Df['dist2']\n",
        "\n",
        "passmask = Df.type_name=='Pass'\n",
        "successmask = Df.pass_outcome_name.isna()\n",
        "openplaymask = Df.pass_type_name.isna()\n",
        "shortpassmask = (Df.pass_length >= 5) & (Df.pass_length < 15)\n",
        "mediumpassmask = (Df.pass_length >= 15) & (Df.pass_length < 30)\n",
        "longpassmask = (Df.pass_length >= 30)\n",
        "finalthirdmask = (Df.endX > 80) & (Df.x <= 80)\n",
        "penaltyareamask = (Df.endX > 102) & (np.abs(Df.endY - 40) < 22)\n",
        "pressuremask = Df.under_pressure==True\n",
        "throughballmask = Df.pass_through_ball == True \n",
        "switchmask = Df.pass_switch == True \n",
        "crossmask = Df.pass_cross == True\n",
        "distmask = (Df['dist1'] - Df['dist2'])/Df['dist1'] > 0.25\n",
        "boxmask = ~(Df.x > 102) & (np.abs(Df.y - 40) < 22)\n",
        "progmask = distmask | (boxmask & penaltyareamask)\n",
        "\n",
        "carrymask = Df.type_name=='Carry'\n",
        "\n",
        "Df['Passes'] = np.where(passmask,1,0)\n",
        "Df['Successful Passes'] = np.where(passmask & successmask,1,0)\n",
        "Df['Short Passes'] = np.where(passmask & shortpassmask,1,0)\n",
        "Df['Successful Short Passes'] = np.where((Df['Short Passes']==1) & successmask,1,0)\n",
        "Df['Medium Passes'] = np.where(passmask & mediumpassmask,1,0)\n",
        "Df['Successful Medium Passes'] = np.where((Df['Medium Passes']==1) & successmask,1,0)\n",
        "Df['Long Passes'] = np.where(passmask & longpassmask,1,0)\n",
        "Df['Successful Long Passes'] = np.where((Df['Long Passes']==1) & successmask,1,0)\n",
        "Df['Final Third Passes'] = np.where(passmask & finalthirdmask & openplaymask,1,0)\n",
        "Df['Successful Final Third Passes'] = np.where((Df['Final Third Passes']==1) & successmask,1,0)\n",
        "Df['Penalty Area Passes'] = np.where(passmask & penaltyareamask & openplaymask,1,0)\n",
        "Df['Successful Penalty Area Passes'] = np.where((Df['Penalty Area Passes']==1) & successmask,1,0)\n",
        "Df['Under Pressure Passes'] = np.where(passmask & pressuremask,1,0)\n",
        "Df['Successful Under Pressure Passes'] = np.where(passmask & pressuremask & successmask,1,0)\n",
        "Df['Throughballs'] = np.where(throughballmask,1,0)\n",
        "Df['Successful Throughballs'] = np.where(throughballmask & successmask,1,0)\n",
        "Df['Switches'] = np.where(switchmask,1,0)\n",
        "Df['Successful Switches'] = np.where(switchmask & successmask,1,0)\n",
        "Df['Crosses'] = np.where(crossmask,1,0)\n",
        "Df['Successful Crosses'] = np.where(crossmask & successmask,1,0)\n",
        "Df['Penalty Area Crosses'] = np.where(crossmask & penaltyareamask & openplaymask,1,0)\n",
        "Df['Successful Penalty Area Crosses'] = np.where(crossmask & penaltyareamask & openplaymask & successmask,\n",
        "                                                 1,0)\n",
        "Df['Progressive Passes'] = np.where(passmask & progmask,1,0)\n",
        "Df['Successful Progressive Passes'] = np.where(passmask & progmask & successmask,1,0)\n",
        "Df['Pass Progressive Distance'] = np.where(passmask & (Df.diffdist > 0), Df.diffdist, 0)\n",
        "\n",
        "Df['Carries'] = np.where(carrymask,1,0)\n",
        "Df['Final Third Carries'] = np.where(carrymask & finalthirdmask,1,0)\n",
        "Df['Progressive Carries'] = np.where(carrymask & progmask,1,0)\n",
        "Df['Carry Distance'] = np.where(carrymask, np.sqrt((Df.x - Df.endX)**2 + (Df.y -Df.endY)**2),0)\n",
        "Df['Carry Progressive Distance'] = np.where(carrymask & (Df.diffdist > 0), Df.diffdist, 0)\n",
        "\n",
        "aggdict = {'Passes':'sum','Successful Passes':'sum','Short Passes':'sum', \n",
        "           'Successful Short Passes':'sum','Medium Passes':'sum', \n",
        "           'Successful Medium Passes':'sum','Long Passes':'sum', \n",
        "           'Successful Long Passes':'sum','Final Third Passes':'sum',\n",
        "           'Successful Final Third Passes':'sum','Penalty Area Passes':'sum',\n",
        "           'Successful Penalty Area Passes':'sum','Under Pressure Passes':'sum',\n",
        "           'Successful Under Pressure Passes':'sum','Throughballs':'sum',\n",
        "           'Successful Throughballs':'sum','Switches':'sum',\n",
        "           'Successful Switches':'sum','Crosses':'sum',\n",
        "           'Successful Crosses':'sum','Penalty Area Crosses':'sum',\n",
        "           'Successful Penalty Area Crosses':'sum','Progressive Passes':'sum',\n",
        "           'Successful Progressive Passes':'sum','pass_length':'sum',\n",
        "           'Pass Progressive Distance':'sum','Carries':'sum',\n",
        "           'Final Third Carries':'sum','Progressive Carries':'sum',\n",
        "           'Carry Distance':'sum','Carry Progressive Distance':'sum'}\n",
        "\n",
        "groupedstats = Df.groupby('player_name').agg(aggdict).reset_index()\n",
        "\n",
        "groupedstats.rename(columns={\"player_name\": \"name\",\n",
        "                             'pass_length':'Total Pass Length',\n",
        "                             }, errors=\"raise\",inplace=True)"
      ],
      "execution_count": null,
      "outputs": []
    },
    {
      "cell_type": "markdown",
      "metadata": {
        "id": "mrO9g8PNnGqP"
      },
      "source": [
        "#Mount google drive and save file"
      ]
    },
    {
      "cell_type": "code",
      "metadata": {
        "colab": {
          "base_uri": "https://localhost:8080/"
        },
        "id": "1T9tIMLMXr4F",
        "outputId": "ab2fb850-d404-4477-9f3b-38af83328caf"
      },
      "source": [
        "from google.colab import drive\n",
        "drive.mount('/content/drive')"
      ],
      "execution_count": null,
      "outputs": [
        {
          "output_type": "stream",
          "text": [
            "Mounted at /content/drive\n"
          ],
          "name": "stdout"
        }
      ]
    },
    {
      "cell_type": "code",
      "metadata": {
        "id": "4RRIAok0XzBZ"
      },
      "source": [
        "groupedstats.to_parquet('/content/drive/MyDrive/Norwich/passcarry.parquet',index=False)"
      ],
      "execution_count": null,
      "outputs": []
    }
  ]
}