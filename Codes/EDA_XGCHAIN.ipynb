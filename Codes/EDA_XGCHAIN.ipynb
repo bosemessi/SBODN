{
  "nbformat": 4,
  "nbformat_minor": 0,
  "metadata": {
    "colab": {
      "name": "EDA_XGCHAIN.ipynb",
      "provenance": [],
      "collapsed_sections": []
    },
    "kernelspec": {
      "name": "python3",
      "display_name": "Python 3"
    },
    "language_info": {
      "name": "python"
    }
  },
  "cells": [
    {
      "cell_type": "markdown",
      "metadata": {
        "id": "-uA6widfpITD"
      },
      "source": [
        "#Imports"
      ]
    },
    {
      "cell_type": "code",
      "metadata": {
        "id": "44VIa_mpoSox",
        "cellView": "form"
      },
      "source": [
        "#@title\n",
        "import sys\n",
        "import pandas as pd\n",
        "pd.options.mode.chained_assignment = None\n",
        "pd.set_option('display.max_columns', None)\n",
        "import numpy as np\n",
        "!git clone https://github.com/bosemessi/StatsbombOpenData --q\n",
        "!pip install tqdm --q\n",
        "from tqdm import tqdm\n",
        "import requests \n",
        "import warnings\n",
        "warnings.filterwarnings('ignore')"
      ],
      "execution_count": null,
      "outputs": []
    },
    {
      "cell_type": "code",
      "metadata": {
        "id": "btoa8vTEoYZ9"
      },
      "source": [
        "df = pd.read_parquet('/content/StatsbombOpenData/WC2018.parquet').reset_index(drop=True)"
      ],
      "execution_count": null,
      "outputs": []
    },
    {
      "cell_type": "markdown",
      "metadata": {
        "id": "B6Uv-ARppLx4"
      },
      "source": [
        "#Calculate XGChain and XGBuildup from the sequence data"
      ]
    },
    {
      "cell_type": "code",
      "metadata": {
        "colab": {
          "base_uri": "https://localhost:8080/"
        },
        "id": "2MR792tRtZfm",
        "outputId": "b308b698-dd22-4849-e3f5-d02a5af8886b"
      },
      "source": [
        "#@title\n",
        "\n",
        "def player_xgc(match_id):\n",
        "    gamedf = df[(df.match_id==match_id)&(df.period<=4)].reset_index(drop=True)\n",
        "    typemask = gamedf.type_name == 'Shot'\n",
        "    openplay = gamedf.shot_type_name == 'Open Play'\n",
        "    sameteam = gamedf.team_name == gamedf.possession_team_name\n",
        "    gamedf['OPS'] = np.where(typemask & openplay & sameteam,1,0)\n",
        "    gamedf['oneminusxG'] = 1.0 - gamedf['shot_statsbomb_xg']\n",
        "    aggdict = {'OPS':'sum','oneminusxG':np.prod}\n",
        "    grouped = gamedf[gamedf.OPS==1].groupby(['team_name','possession']).agg(aggdict).reset_index()\n",
        "    grouped['oneminusxG'] = 1.0 - grouped['oneminusxG']\n",
        "    grouped.rename(columns={'oneminusxG':'xGCond'},inplace=True)\n",
        "    grouped.drop(columns='OPS',inplace=True)\n",
        "    gamedf = gamedf.merge(grouped,how='left')\n",
        "    gamedf['xGCond'].fillna(value=0,inplace=True)\n",
        "    gamedf['xGCond'] = np.where(gamedf.type_name.isin(['Pass','Carry']),gamedf.xGCond,0)\n",
        "    groupdf = gamedf.groupby(['player_name','possession']).agg({'xGCond':'mean'}).reset_index()\n",
        "    return groupdf\n",
        "\n",
        "def player_xgb(match_id):\n",
        "    gamedf = df[(df.match_id==match_id)&(df.period<=4)].reset_index(drop=True)\n",
        "    typemask = gamedf.type_name == 'Shot'\n",
        "    openplay = gamedf.shot_type_name == 'Open Play'\n",
        "    sameteam = gamedf.team_name == gamedf.possession_team_name\n",
        "    gamedf['OPS'] = np.where(typemask & openplay & sameteam,1,0)\n",
        "    gamedf['oneminusxG'] = 1.0 - gamedf['shot_statsbomb_xg']\n",
        "    aggdict = {'OPS':'sum','oneminusxG':np.prod}\n",
        "    grouped = gamedf[gamedf.OPS==1].groupby(['team_name','possession']).agg(aggdict).reset_index()\n",
        "    grouped['oneminusxG'] = 1.0 - grouped['oneminusxG']\n",
        "    grouped.rename(columns={'oneminusxG':'xGCond'},inplace=True)\n",
        "    grouped.drop(columns='OPS',inplace=True)\n",
        "    gamedf = gamedf.merge(grouped,how='left')\n",
        "    gamedf['xGCond'].fillna(value=0,inplace=True)\n",
        "    gamedf['xGCond'] = np.where(gamedf.type_name.isin(['Pass','Carry']),gamedf.xGCond,0)\n",
        "    gamedf.loc[(gamedf.pass_shot_assist==True)|(gamedf.pass_goal_assist==True),\n",
        "               'xGCond'] = 0\n",
        "    groupdf = gamedf.groupby(['player_name','possession']).agg({'xGCond':'mean'}).reset_index()\n",
        "    return groupdf\n",
        "\n",
        "xgcdfs = []\n",
        "xgbdfs = []\n",
        "for g in tqdm(df.match_id.unique(),desc='Reading Games'):\n",
        "    xgcdfs.append(player_xgc(g))\n",
        "    xgbdfs.append(player_xgb(g))\n",
        "xgcdf = pd.concat(xgcdfs, ignore_index=True)\n",
        "xgbdf = pd.concat(xgbdfs, ignore_index=True)"
      ],
      "execution_count": null,
      "outputs": [
        {
          "output_type": "stream",
          "text": [
            "Reading Games: 100%|██████████| 64/64 [00:26<00:00,  2.39it/s]\n"
          ],
          "name": "stderr"
        }
      ]
    },
    {
      "cell_type": "code",
      "metadata": {
        "colab": {
          "base_uri": "https://localhost:8080/"
        },
        "id": "orf97Ss6jRpP",
        "outputId": "a3f4306c-0a19-459e-cfb9-445ddb0e9cf0"
      },
      "source": [
        "xgbdf.rename(columns={'xGCond':'xGBuildup'},inplace=True)\n",
        "xgcdf.rename(columns={'xGCond':'xGChain'},inplace=True)\n",
        "\n",
        "g1 = xgbdf.groupby('player_name').xGBuildup.sum().reset_index()\n",
        "g2 = xgcdf.groupby('player_name').xGChain.sum().reset_index()\n",
        "len(g1), len(g2)"
      ],
      "execution_count": null,
      "outputs": [
        {
          "output_type": "execute_result",
          "data": {
            "text/plain": [
              "(603, 603)"
            ]
          },
          "metadata": {
            "tags": []
          },
          "execution_count": 6
        }
      ]
    },
    {
      "cell_type": "code",
      "metadata": {
        "colab": {
          "base_uri": "https://localhost:8080/"
        },
        "id": "IVJXSk-llicn",
        "outputId": "a7f46a49-c75a-4b55-d2b7-eca1291e09ae"
      },
      "source": [
        "g1 = g1.merge(g2, how='left')\n",
        "len(g1)"
      ],
      "execution_count": null,
      "outputs": [
        {
          "output_type": "execute_result",
          "data": {
            "text/plain": [
              "603"
            ]
          },
          "metadata": {
            "tags": []
          },
          "execution_count": 7
        }
      ]
    },
    {
      "cell_type": "markdown",
      "metadata": {
        "id": "q05Cn_-zpR6I"
      },
      "source": [
        "#Combine XGC and XGB and save"
      ]
    },
    {
      "cell_type": "code",
      "metadata": {
        "colab": {
          "base_uri": "https://localhost:8080/",
          "height": 419
        },
        "id": "4DR6KdXyn9JU",
        "outputId": "23b0f0cb-27f4-47a5-dfec-e293f101dc94"
      },
      "source": [
        "g1"
      ],
      "execution_count": null,
      "outputs": [
        {
          "output_type": "execute_result",
          "data": {
            "text/html": [
              "<div>\n",
              "<style scoped>\n",
              "    .dataframe tbody tr th:only-of-type {\n",
              "        vertical-align: middle;\n",
              "    }\n",
              "\n",
              "    .dataframe tbody tr th {\n",
              "        vertical-align: top;\n",
              "    }\n",
              "\n",
              "    .dataframe thead th {\n",
              "        text-align: right;\n",
              "    }\n",
              "</style>\n",
              "<table border=\"1\" class=\"dataframe\">\n",
              "  <thead>\n",
              "    <tr style=\"text-align: right;\">\n",
              "      <th></th>\n",
              "      <th>player_name</th>\n",
              "      <th>xGBuildup</th>\n",
              "      <th>xGChain</th>\n",
              "    </tr>\n",
              "  </thead>\n",
              "  <tbody>\n",
              "    <tr>\n",
              "      <th>0</th>\n",
              "      <td>Aaron Mooy</td>\n",
              "      <td>0.585616</td>\n",
              "      <td>1.158689</td>\n",
              "    </tr>\n",
              "    <tr>\n",
              "      <th>1</th>\n",
              "      <td>Abdalla Mahmoud El Said Bekhit</td>\n",
              "      <td>0.677549</td>\n",
              "      <td>0.824822</td>\n",
              "    </tr>\n",
              "    <tr>\n",
              "      <th>2</th>\n",
              "      <td>Abdiel Arroyo Molinar</td>\n",
              "      <td>0.063533</td>\n",
              "      <td>0.239129</td>\n",
              "    </tr>\n",
              "    <tr>\n",
              "      <th>3</th>\n",
              "      <td>Abdullah Ibrahim Al Maiouf</td>\n",
              "      <td>0.030863</td>\n",
              "      <td>0.030863</td>\n",
              "    </tr>\n",
              "    <tr>\n",
              "      <th>4</th>\n",
              "      <td>Abdullah Ibrahim Otayf</td>\n",
              "      <td>0.316491</td>\n",
              "      <td>0.340030</td>\n",
              "    </tr>\n",
              "    <tr>\n",
              "      <th>...</th>\n",
              "      <td>...</td>\n",
              "      <td>...</td>\n",
              "      <td>...</td>\n",
              "    </tr>\n",
              "    <tr>\n",
              "      <th>598</th>\n",
              "      <td>İlkay Gündoğan</td>\n",
              "      <td>0.330735</td>\n",
              "      <td>0.356063</td>\n",
              "    </tr>\n",
              "    <tr>\n",
              "      <th>599</th>\n",
              "      <td>Łukasz Fabiański</td>\n",
              "      <td>0.035246</td>\n",
              "      <td>0.035246</td>\n",
              "    </tr>\n",
              "    <tr>\n",
              "      <th>600</th>\n",
              "      <td>Łukasz Piszczek</td>\n",
              "      <td>0.427537</td>\n",
              "      <td>0.595599</td>\n",
              "    </tr>\n",
              "    <tr>\n",
              "      <th>601</th>\n",
              "      <td>Łukasz Teodorczyk</td>\n",
              "      <td>0.058117</td>\n",
              "      <td>0.058117</td>\n",
              "    </tr>\n",
              "    <tr>\n",
              "      <th>602</th>\n",
              "      <td>Šime Vrsaljko</td>\n",
              "      <td>1.721283</td>\n",
              "      <td>1.891406</td>\n",
              "    </tr>\n",
              "  </tbody>\n",
              "</table>\n",
              "<p>603 rows × 3 columns</p>\n",
              "</div>"
            ],
            "text/plain": [
              "                        player_name  xGBuildup   xGChain\n",
              "0                        Aaron Mooy   0.585616  1.158689\n",
              "1    Abdalla Mahmoud El Said Bekhit   0.677549  0.824822\n",
              "2             Abdiel Arroyo Molinar   0.063533  0.239129\n",
              "3        Abdullah Ibrahim Al Maiouf   0.030863  0.030863\n",
              "4            Abdullah Ibrahim Otayf   0.316491  0.340030\n",
              "..                              ...        ...       ...\n",
              "598                  İlkay Gündoğan   0.330735  0.356063\n",
              "599                Łukasz Fabiański   0.035246  0.035246\n",
              "600                 Łukasz Piszczek   0.427537  0.595599\n",
              "601               Łukasz Teodorczyk   0.058117  0.058117\n",
              "602                   Šime Vrsaljko   1.721283  1.891406\n",
              "\n",
              "[603 rows x 3 columns]"
            ]
          },
          "metadata": {
            "tags": []
          },
          "execution_count": 8
        }
      ]
    },
    {
      "cell_type": "code",
      "metadata": {
        "colab": {
          "base_uri": "https://localhost:8080/"
        },
        "id": "autbZAT_pAuL",
        "outputId": "91a328e0-d8ed-4d66-b6ff-506f7078f981"
      },
      "source": [
        "from google.colab import drive\n",
        "drive.mount('/content/drive')"
      ],
      "execution_count": null,
      "outputs": [
        {
          "output_type": "stream",
          "text": [
            "Mounted at /content/drive\n"
          ],
          "name": "stdout"
        }
      ]
    },
    {
      "cell_type": "code",
      "metadata": {
        "id": "XeDEwRLopCAR"
      },
      "source": [
        "g1.to_parquet('/content/drive/MyDrive/Norwich/xGBC.parquet',index=False)"
      ],
      "execution_count": null,
      "outputs": []
    },
    {
      "cell_type": "code",
      "metadata": {
        "id": "1KEgOoV-pJOI"
      },
      "source": [
        ""
      ],
      "execution_count": null,
      "outputs": []
    }
  ]
}