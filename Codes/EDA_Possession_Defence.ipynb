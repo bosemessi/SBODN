{
  "nbformat": 4,
  "nbformat_minor": 0,
  "metadata": {
    "colab": {
      "name": "EDA_Possession_Defence.ipynb",
      "provenance": [],
      "collapsed_sections": []
    },
    "kernelspec": {
      "name": "python3",
      "display_name": "Python 3"
    },
    "language_info": {
      "name": "python"
    }
  },
  "cells": [
    {
      "cell_type": "markdown",
      "metadata": {
        "id": "DObnltTjpjDa"
      },
      "source": [
        "#Imports"
      ]
    },
    {
      "cell_type": "code",
      "metadata": {
        "cellView": "form",
        "colab": {
          "base_uri": "https://localhost:8080/"
        },
        "id": "xMucAJSJjW2v",
        "outputId": "711bc0fa-a5de-4bbd-b91c-958bdc576acd"
      },
      "source": [
        "#@title\n",
        "import sys\n",
        "import pandas as pd\n",
        "pd.options.mode.chained_assignment = None\n",
        "pd.set_option('display.max_columns', None)\n",
        "import numpy as np\n",
        "!git clone https://github.com/bosemessi/StatsbombOpenData --q\n",
        "!pip install mplsoccer --q\n",
        "from mplsoccer import Pitch, VerticalPitch\n",
        "import ipywidgets as widgets\n",
        "from ipywidgets import interact,interactive\n",
        "import matplotlib.pyplot as plt\n",
        "import matplotlib as mpl \n",
        "import matplotlib.font_manager as fm\n",
        "!pip install highlight-text --q\n",
        "from highlight_text import ax_text, fig_text\n",
        "!pip install adjustText --q\n",
        "from adjustText import adjust_text\n",
        "!pip install gdown --quiet\n",
        "import gdown\n",
        "import matplotlib.patheffects as path_effects\n",
        "from matplotlib.transforms import Affine2D\n",
        "import mpl_toolkits.axisartist.floating_axes as floating_axes\n",
        "import mpl_toolkits.axisartist.angle_helper as angle_helper\n",
        "from matplotlib.projections import PolarAxes\n",
        "from mpl_toolkits.axisartist.grid_finder import (FixedLocator, MaxNLocator,\n",
        "                                                 DictFormatter)\n",
        "import matplotlib.patches as patches\n",
        "from PIL import Image\n",
        "from io import StringIO, BytesIO\n",
        "from tqdm import tqdm\n",
        "import requests \n",
        "import warnings\n",
        "warnings.filterwarnings('ignore')\n",
        "from matplotlib.colors import LinearSegmentedColormap\n",
        "from scipy.interpolate import RegularGridInterpolator"
      ],
      "execution_count": null,
      "outputs": [
        {
          "output_type": "stream",
          "text": [
            "\u001b[?25l\r\u001b[K     |█████▊                          | 10kB 19.0MB/s eta 0:00:01\r\u001b[K     |███████████▍                    | 20kB 9.4MB/s eta 0:00:01\r\u001b[K     |█████████████████               | 30kB 7.7MB/s eta 0:00:01\r\u001b[K     |██████████████████████▊         | 40kB 7.3MB/s eta 0:00:01\r\u001b[K     |████████████████████████████▍   | 51kB 3.1MB/s eta 0:00:01\r\u001b[K     |████████████████████████████████| 61kB 2.6MB/s \n",
            "\u001b[?25h  Building wheel for mplsoccer (setup.py) ... \u001b[?25l\u001b[?25hdone\n",
            "  Building wheel for adjustText (setup.py) ... \u001b[?25l\u001b[?25hdone\n"
          ],
          "name": "stdout"
        }
      ]
    },
    {
      "cell_type": "markdown",
      "metadata": {
        "id": "2iYG8c3qpkzk"
      },
      "source": [
        "#Read data file"
      ]
    },
    {
      "cell_type": "code",
      "metadata": {
        "colab": {
          "base_uri": "https://localhost:8080/"
        },
        "cellView": "form",
        "id": "kPF4a9Q_jpC8",
        "outputId": "23019b23-3cce-4ab2-93a6-852b36d35ab6"
      },
      "source": [
        "#@title\n",
        "\n",
        "df = pd.read_parquet('/content/StatsbombOpenData/WC2018.parquet').reset_index(drop=True)\n",
        "Df = df[df.location.notna()].reset_index(drop=True)\n",
        "Df[['x','y']] = np.array(list(Df.location))\n",
        "Df['endloc'] = np.where(Df.type_name=='Pass',Df.pass_end_location,\n",
        "                        np.where(Df.type_name=='Carry',Df.carry_end_location,Df.location))\n",
        "Df[['endX','endY']] = np.array(list(Df.endloc))\n",
        "\n",
        "defenders = Df[Df.position_name.isin(['Left Center Back','Right Center Back',\n",
        "                                      'Center Back'])].player_name.unique()\n",
        "print(\"Initial number : \"+str(len(defenders)))\n",
        "flagnames = ['Francisco Javier Calvo Quesada','Joshua Kimmich',\n",
        "             'Luis Carlos Tejada Hansell',\n",
        "             'Michael Lang','Nicolás Alejandro Tagliafico',\n",
        "             'Gabriel Iván Mercado','Hörður Björgvin Magnússon','Birkir Már Sævarsson',\n",
        "             'Fedor Kudryashov','Éver Maximiliano David Banega','Edson Omar Álvarez Velázquez',\n",
        "             'Marcus Rashford', 'İlkay Gündoğan', 'Dylan Bronn']\n",
        "print(\"Suspicious cases : \"+str(len(flagnames)))\n",
        "defenders = list(set(defenders) - set(flagnames))\n",
        "print(\"Final number :\"+str(len(defenders)))"
      ],
      "execution_count": null,
      "outputs": [
        {
          "output_type": "stream",
          "text": [
            "Initial number : 116\n",
            "Suspicious cases : 14\n",
            "Final number :102\n"
          ],
          "name": "stdout"
        }
      ]
    },
    {
      "cell_type": "markdown",
      "metadata": {
        "id": "fbDwAo7GppPq"
      },
      "source": [
        "#Define a function to extract all defensive metrics from the event data of a particular game"
      ]
    },
    {
      "cell_type": "code",
      "metadata": {
        "id": "n0Tpp_xcj7HW"
      },
      "source": [
        "#@title\n",
        "\n",
        "def game_poss(match_id):\n",
        "    gamedf = df[(df.match_id==match_id)&(df.period<=4)].reset_index(drop=True)\n",
        "    team1 = gamedf.team_name[0]\n",
        "    team2 = gamedf.team_name[1]\n",
        "    gamedf['time_seconds'] = gamedf['minute']*60 + gamedf['second']\n",
        "    gamedf['Successful Pressures'] = 0\n",
        "    passes1 = len(gamedf[(gamedf.team_name==team1)&(gamedf.type_name=='Pass')]) \n",
        "    passes2 = len(gamedf[(gamedf.team_name==team2)&(gamedf.type_name=='Pass')]) \n",
        "    poss1 = round(passes1*100/(passes1+passes2))\n",
        "    poss2 = 100 - poss1\n",
        "    tacklemask = gamedf.duel_type_name=='Tackle'\n",
        "    tacklesuccess = gamedf.duel_outcome_name.isin(['Success In Play', 'Won',\n",
        "       'Success Out'])\n",
        "    interceptmask = gamedf.type_name == 'Interception'\n",
        "    interceptsuccess = gamedf.interception_outcome_name.isin(['Success In Play', 'Won',\n",
        "       'Success Out'])\n",
        "    dribbled_past = gamedf.type_name == 'Dribbled Past'\n",
        "    fouls = gamedf.type_name == 'Foul Committed'\n",
        "    aerialL = gamedf.duel_type_name=='Aerial Lost'\n",
        "    aerialW = gamedf.pass_aerial_won.notna() | gamedf.shot_aerial_won.notna() | \\\n",
        "                gamedf.clearance_aerial_won.notna() | gamedf.miscontrol_aerial_won.notna() \n",
        "    blocks = gamedf.type_name == 'Block'\n",
        "    passblock = gamedf.block_offensive.isna() & gamedf.block_deflection.isna() &\\\n",
        "                gamedf.block_save_block.isna()\n",
        "    pressures = gamedf.type_name=='Pressure'\n",
        "    pressuredf = gamedf[pressures]\n",
        "    for indx in list(pressuredf.index):\n",
        "        t = pressuredf['time_seconds'][indx]\n",
        "        possession_team_name = pressuredf['possession_team_name'][indx]\n",
        "        \n",
        "        if t+5>=gamedf.time_seconds.max():\n",
        "            t_end = gamedf.time_seconds.max()\n",
        "        else:\n",
        "            t_end = t+5\n",
        "        \n",
        "        index_after_five_seconds = list(gamedf[(gamedf.time_seconds>=t) & \n",
        "                                               (gamedf.time_seconds<=t_end)].index)\n",
        "        possession_teams = gamedf['possession_team_name'][index_after_five_seconds].unique().tolist()\n",
        "                \n",
        "        if len(possession_teams) == 2:\n",
        "            gamedf.loc[indx,'Successful Pressures'] = 1\n",
        "    successful_dribbles = gamedf.dribble_outcome_name == 'Complete'\n",
        "    failed_dribbles = gamedf.dribble_outcome_name == 'Incomplete'\n",
        "    miscontrols = gamedf.type_name == 'Miscontrol'\n",
        "    dispossessions = gamedf.type_name == 'Dispossessed'\n",
        "\n",
        "    gamedf['Tackles'] = np.where(tacklemask, 1, 0)\n",
        "    gamedf['Tackles Won'] = np.where(tacklesuccess, 1, 0)\n",
        "    gamedf['Interceptions'] = np.where(interceptmask, 1, 0)\n",
        "    gamedf['Interceptions Won'] = np.where(interceptsuccess, 1, 0)\n",
        "    gamedf['Dribbled Past'] = np.where(dribbled_past,1,0)\n",
        "    gamedf['Fouls'] = np.where(fouls,1,0)\n",
        "    gamedf['Aerial Challenges Lost'] = np.where(aerialL,1,0)\n",
        "    gamedf['Aerial Challenges Won'] = np.where(aerialW,1,0)\n",
        "    gamedf['Blocks'] = np.where(blocks,1,0)\n",
        "    gamedf['Blocked Passes'] = np.where(blocks & passblock,1,0)\n",
        "    gamedf['Pressures'] = np.where(pressures,1,0)\n",
        "    gamedf['Successful Dribbles'] = np.where(successful_dribbles,1,0)\n",
        "    gamedf['Failed Dribbles'] = np.where(failed_dribbles,1,0)\n",
        "    gamedf['Miscontrols'] = np.where(miscontrols,1,0)\n",
        "    gamedf['Dispossessions'] = np.where(dispossessions,1,0)\n",
        "    gamedf['Ball Recovery'] = np.where(gamedf.type_name=='Ball Recovery',1,0)\n",
        "    gamedf['Clearances'] = np.where(gamedf.type_name=='Clearance',1,0)\n",
        "\n",
        "    aggdict = {'Tackles':'sum', 'Tackles Won':'sum','Interceptions':'sum',\n",
        "               'Interceptions Won':'sum','Dribbled Past':'sum','Fouls':'sum',\n",
        "               'Aerial Challenges Lost':'sum','Aerial Challenges Won':'sum',\n",
        "               'Blocks':'sum','Blocked Passes':'sum','Pressures':'sum',\n",
        "               'Successful Pressures':'sum','Successful Dribbles':'sum',\n",
        "               'Failed Dribbles':'sum','Miscontrols':'sum','Dispossessions':'sum',\n",
        "               'Ball Recovery':'sum','Clearances':'sum'}\n",
        "\n",
        "    groupedstats = gamedf.groupby(['player_name','team_name']).agg(aggdict).reset_index()\n",
        "    groupedstats = groupedstats.sort_values(by=['team_name','Successful Pressures'],\n",
        "                                            ascending=False).reset_index(drop=True)\n",
        "    groupedstats.rename(columns={\"player_name\": \"name\",\"team_name\":'team'},\n",
        "                        errors=\"raise\",inplace=True)\n",
        "    groupedstats['Possession %'] = np.where(groupedstats.team==team1,poss1,poss2) \n",
        "    groupedstats['True Tackles'] = groupedstats['Tackles'] + groupedstats['Fouls'] + \\\n",
        "                                    groupedstats['Dribbled Past']\n",
        "    groupedstats['True Tackle Win%'] = groupedstats['Tackles']*100/groupedstats['True Tackles']\n",
        "    groupedstats['True Interceptions'] = groupedstats['Interceptions'] + \\\n",
        "                                groupedstats['Blocked Passes']\n",
        "    groupedstats['Defensive Acts'] = groupedstats['Tackles'] + groupedstats['Interceptions'] + \\\n",
        "                                     groupedstats['Clearances'] + groupedstats['Ball Recovery'] + \\\n",
        "                                     groupedstats['Blocks']\n",
        "    return groupedstats\n"
      ],
      "execution_count": null,
      "outputs": []
    },
    {
      "cell_type": "markdown",
      "metadata": {
        "id": "Y1m2bWxepvoX"
      },
      "source": [
        "#Loop over all games and extract the event data, then save"
      ]
    },
    {
      "cell_type": "code",
      "metadata": {
        "colab": {
          "base_uri": "https://localhost:8080/"
        },
        "id": "Fi1O_nkqHD0x",
        "outputId": "e1b59e31-c7ae-4f2e-9581-877e815e668f"
      },
      "source": [
        "groupgamedfs = []\n",
        "for game in tqdm(df.match_id.unique(),desc='Reading all games'):\n",
        "    groupgamedfs.append(game_poss(game))\n",
        "groupgamedfs = pd.concat(groupgamedfs,ignore_index=True)"
      ],
      "execution_count": null,
      "outputs": [
        {
          "output_type": "stream",
          "text": [
            "Reading all games: 100%|██████████| 64/64 [00:38<00:00,  1.66it/s]\n"
          ],
          "name": "stderr"
        }
      ]
    },
    {
      "cell_type": "code",
      "metadata": {
        "colab": {
          "base_uri": "https://localhost:8080/"
        },
        "id": "zzCzBoJSI26z",
        "outputId": "e20538a7-a01d-4e6c-d5f2-93ed7258217d"
      },
      "source": [
        "from google.colab import drive\n",
        "drive.mount('/content/drive')"
      ],
      "execution_count": null,
      "outputs": [
        {
          "output_type": "stream",
          "text": [
            "Mounted at /content/drive\n"
          ],
          "name": "stdout"
        }
      ]
    },
    {
      "cell_type": "code",
      "metadata": {
        "id": "SGhsHlfyHWnI"
      },
      "source": [
        "groupgamedfs.to_parquet('/content/drive/MyDrive/Norwich/defensivemetrics.parquet',index=False)"
      ],
      "execution_count": null,
      "outputs": []
    }
  ]
}